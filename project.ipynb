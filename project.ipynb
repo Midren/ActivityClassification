{
 "cells": [
  {
   "cell_type": "code",
   "execution_count": 206,
   "metadata": {},
   "outputs": [
    {
     "data": {
      "text/plain": [
       "DataTransformerRegistry.enable('default')"
      ]
     },
     "execution_count": 206,
     "metadata": {},
     "output_type": "execute_result"
    }
   ],
   "source": [
    "import numpy as np\n",
    "import pandas as pd\n",
    "import scipy.signal as signal\n",
    "import altair as alt\n",
    "\n",
    "from pathlib import Path\n",
    "from operator import and_\n",
    "from functools import reduce\n",
    "from itertools import chain, groupby, product\n",
    "from sklearn.preprocessing import LabelEncoder\n",
    "\n",
    "alt.data_transformers.enable('default', max_rows=None)"
   ]
  },
  {
   "cell_type": "markdown",
   "metadata": {},
   "source": [
    "## Read Data"
   ]
  },
  {
   "cell_type": "code",
   "execution_count": 24,
   "metadata": {},
   "outputs": [],
   "source": [
    "cols_names = [\n",
    "    'acceleration, chest (X axis)',\n",
    "    'acceleration, chest (Y axis)',\n",
    "    'acceleration, chest (Z axis)',\n",
    "    'ECG-1',\n",
    "    'ECG-2',\n",
    "    'acceleration, left-ankle (X axis)',\n",
    "    'acceleration, left-ankle (Y axis)',\n",
    "    'acceleration, left-ankle (Z axis)',\n",
    "    'gyro, left-ankle (X axis)',\n",
    "    'gyro, left-ankle (Y axis)',\n",
    "    'gyro, left-ankle (Z axis)',\n",
    "    'magnetometer, left-ankle (X axis)',\n",
    "    'magnetometer, left-ankle (Y axis)',\n",
    "    'magnetometer, left-ankle (Z axis)',\n",
    "    'acceleration, right-lower-arm (X axis)',\n",
    "    'acceleration, right-lower-arm (Y axis)',\n",
    "    'acceleration, right-lower-arm (Z axis)',\n",
    "    'gyro, right-lower-arm (X axis)',\n",
    "    'gyro, right-lower-arm (Y axis)',\n",
    "    'gyro, right-lower-arm (Z axis)',\n",
    "    'magnetometer, right-lower-arm (X axis)',\n",
    "    'magnetometer, right-lower-arm (Y axis)',\n",
    "    'magnetometer, right-lower-arm (Z axis)',\n",
    "    'activity'\n",
    "]"
   ]
  },
  {
   "cell_type": "code",
   "execution_count": 64,
   "metadata": {},
   "outputs": [],
   "source": [
    "activities_names = np.array([\n",
    "    'N/A',\n",
    "    'Standing still',\n",
    "    'Sitting and relaxing',\n",
    "    'Lying down',\n",
    "    'Walking',\n",
    "    'Climbing stairs',\n",
    "    'Waist bends forward',\n",
    "    'Frontal elevation of arms',\n",
    "    'Knees bending (crouching)',\n",
    "    'Cycling',\n",
    "    'Jogging',\n",
    "    'Running',\n",
    "    'Jump front & back',\n",
    "])"
   ]
  },
  {
   "cell_type": "code",
   "execution_count": 57,
   "metadata": {},
   "outputs": [],
   "source": [
    "fs = 50"
   ]
  },
  {
   "cell_type": "code",
   "execution_count": 58,
   "metadata": {},
   "outputs": [],
   "source": [
    "partial_dfs = []\n",
    "for i in range(1, 11):\n",
    "    partial_df = pd.read_table(Path('data')/ ('mHealth_subject' + str(i) + '.log'), header=None, names=cols_names)\n",
    "    partial_df['timepoint'] =  np.arange(1/fs*len(partial_df), step=1/fs)[:len(partial_df)]\n",
    "    partial_df['subject'] = i\n",
    "    partial_dfs.append(partial_df)\n",
    "    \n",
    "df = pd.concat(partial_dfs)"
   ]
  },
  {
   "cell_type": "markdown",
   "metadata": {},
   "source": [
    "## Data Exploration"
   ]
  },
  {
   "cell_type": "code",
   "execution_count": 54,
   "metadata": {},
   "outputs": [
    {
     "data": {
      "text/html": [
       "<div>\n",
       "<style scoped>\n",
       "    .dataframe tbody tr th:only-of-type {\n",
       "        vertical-align: middle;\n",
       "    }\n",
       "\n",
       "    .dataframe tbody tr th {\n",
       "        vertical-align: top;\n",
       "    }\n",
       "\n",
       "    .dataframe thead th {\n",
       "        text-align: right;\n",
       "    }\n",
       "</style>\n",
       "<table border=\"1\" class=\"dataframe\">\n",
       "  <thead>\n",
       "    <tr style=\"text-align: right;\">\n",
       "      <th></th>\n",
       "      <th>acceleration, chest (X axis)</th>\n",
       "      <th>acceleration, chest (Y axis)</th>\n",
       "      <th>acceleration, chest (Z axis)</th>\n",
       "      <th>ECG-1</th>\n",
       "      <th>ECG-2</th>\n",
       "      <th>acceleration, left-ankle (X axis)</th>\n",
       "      <th>acceleration, left-ankle (Y axis)</th>\n",
       "      <th>acceleration, left-ankle (Z axis)</th>\n",
       "      <th>gyro, left-ankle (X axis)</th>\n",
       "      <th>gyro, left-ankle (Y axis)</th>\n",
       "      <th>...</th>\n",
       "      <th>acceleration, right-lower-arm (Z axis)</th>\n",
       "      <th>gyro, right-lower-arm (X axis)</th>\n",
       "      <th>gyro, right-lower-arm (Y axis)</th>\n",
       "      <th>gyro, right-lower-arm (Z axis)</th>\n",
       "      <th>magnetometer, right-lower-arm (X axis)</th>\n",
       "      <th>magnetometer, right-lower-arm (Y axis)</th>\n",
       "      <th>magnetometer, right-lower-arm (Z axis)</th>\n",
       "      <th>activity</th>\n",
       "      <th>timepoint</th>\n",
       "      <th>subject</th>\n",
       "    </tr>\n",
       "  </thead>\n",
       "  <tbody>\n",
       "    <tr>\n",
       "      <th>0</th>\n",
       "      <td>-9.8184</td>\n",
       "      <td>0.009971</td>\n",
       "      <td>0.29563</td>\n",
       "      <td>0.004186</td>\n",
       "      <td>0.004186</td>\n",
       "      <td>2.1849</td>\n",
       "      <td>-9.6967</td>\n",
       "      <td>0.63077</td>\n",
       "      <td>0.103900</td>\n",
       "      <td>-0.84053</td>\n",
       "      <td>...</td>\n",
       "      <td>0.187760</td>\n",
       "      <td>-0.44902</td>\n",
       "      <td>-1.0103</td>\n",
       "      <td>0.034483</td>\n",
       "      <td>-2.35000</td>\n",
       "      <td>-1.610200</td>\n",
       "      <td>-0.030899</td>\n",
       "      <td>0</td>\n",
       "      <td>0.00</td>\n",
       "      <td>1</td>\n",
       "    </tr>\n",
       "    <tr>\n",
       "      <th>1</th>\n",
       "      <td>-9.8489</td>\n",
       "      <td>0.524040</td>\n",
       "      <td>0.37348</td>\n",
       "      <td>0.004186</td>\n",
       "      <td>0.016745</td>\n",
       "      <td>2.3876</td>\n",
       "      <td>-9.5080</td>\n",
       "      <td>0.68389</td>\n",
       "      <td>0.085343</td>\n",
       "      <td>-0.83865</td>\n",
       "      <td>...</td>\n",
       "      <td>0.023595</td>\n",
       "      <td>-0.44902</td>\n",
       "      <td>-1.0103</td>\n",
       "      <td>0.034483</td>\n",
       "      <td>-2.16320</td>\n",
       "      <td>-0.882540</td>\n",
       "      <td>0.326570</td>\n",
       "      <td>0</td>\n",
       "      <td>0.02</td>\n",
       "      <td>1</td>\n",
       "    </tr>\n",
       "    <tr>\n",
       "      <th>2</th>\n",
       "      <td>-9.6602</td>\n",
       "      <td>0.181850</td>\n",
       "      <td>0.43742</td>\n",
       "      <td>0.016745</td>\n",
       "      <td>0.037677</td>\n",
       "      <td>2.4086</td>\n",
       "      <td>-9.5674</td>\n",
       "      <td>0.68113</td>\n",
       "      <td>0.085343</td>\n",
       "      <td>-0.83865</td>\n",
       "      <td>...</td>\n",
       "      <td>0.275720</td>\n",
       "      <td>-0.44902</td>\n",
       "      <td>-1.0103</td>\n",
       "      <td>0.034483</td>\n",
       "      <td>-1.61750</td>\n",
       "      <td>-0.165620</td>\n",
       "      <td>-0.030693</td>\n",
       "      <td>0</td>\n",
       "      <td>0.04</td>\n",
       "      <td>1</td>\n",
       "    </tr>\n",
       "    <tr>\n",
       "      <th>3</th>\n",
       "      <td>-9.6507</td>\n",
       "      <td>0.214220</td>\n",
       "      <td>0.24033</td>\n",
       "      <td>0.079540</td>\n",
       "      <td>0.117220</td>\n",
       "      <td>2.1814</td>\n",
       "      <td>-9.4301</td>\n",
       "      <td>0.55031</td>\n",
       "      <td>0.085343</td>\n",
       "      <td>-0.83865</td>\n",
       "      <td>...</td>\n",
       "      <td>0.367520</td>\n",
       "      <td>-0.45686</td>\n",
       "      <td>-1.0082</td>\n",
       "      <td>0.025862</td>\n",
       "      <td>-1.07710</td>\n",
       "      <td>0.006945</td>\n",
       "      <td>-0.382620</td>\n",
       "      <td>0</td>\n",
       "      <td>0.06</td>\n",
       "      <td>1</td>\n",
       "    </tr>\n",
       "    <tr>\n",
       "      <th>4</th>\n",
       "      <td>-9.7030</td>\n",
       "      <td>0.303890</td>\n",
       "      <td>0.31156</td>\n",
       "      <td>0.221870</td>\n",
       "      <td>0.205130</td>\n",
       "      <td>2.4173</td>\n",
       "      <td>-9.3889</td>\n",
       "      <td>0.71098</td>\n",
       "      <td>0.085343</td>\n",
       "      <td>-0.83865</td>\n",
       "      <td>...</td>\n",
       "      <td>0.407290</td>\n",
       "      <td>-0.45686</td>\n",
       "      <td>-1.0082</td>\n",
       "      <td>0.025862</td>\n",
       "      <td>-0.53684</td>\n",
       "      <td>0.175900</td>\n",
       "      <td>-1.095500</td>\n",
       "      <td>0</td>\n",
       "      <td>0.08</td>\n",
       "      <td>1</td>\n",
       "    </tr>\n",
       "  </tbody>\n",
       "</table>\n",
       "<p>5 rows × 26 columns</p>\n",
       "</div>"
      ],
      "text/plain": [
       "   acceleration, chest (X axis)  acceleration, chest (Y axis)  \\\n",
       "0                       -9.8184                      0.009971   \n",
       "1                       -9.8489                      0.524040   \n",
       "2                       -9.6602                      0.181850   \n",
       "3                       -9.6507                      0.214220   \n",
       "4                       -9.7030                      0.303890   \n",
       "\n",
       "   acceleration, chest (Z axis)     ECG-1     ECG-2  \\\n",
       "0                       0.29563  0.004186  0.004186   \n",
       "1                       0.37348  0.004186  0.016745   \n",
       "2                       0.43742  0.016745  0.037677   \n",
       "3                       0.24033  0.079540  0.117220   \n",
       "4                       0.31156  0.221870  0.205130   \n",
       "\n",
       "   acceleration, left-ankle (X axis)  acceleration, left-ankle (Y axis)  \\\n",
       "0                             2.1849                            -9.6967   \n",
       "1                             2.3876                            -9.5080   \n",
       "2                             2.4086                            -9.5674   \n",
       "3                             2.1814                            -9.4301   \n",
       "4                             2.4173                            -9.3889   \n",
       "\n",
       "   acceleration, left-ankle (Z axis)  gyro, left-ankle (X axis)  \\\n",
       "0                            0.63077                   0.103900   \n",
       "1                            0.68389                   0.085343   \n",
       "2                            0.68113                   0.085343   \n",
       "3                            0.55031                   0.085343   \n",
       "4                            0.71098                   0.085343   \n",
       "\n",
       "   gyro, left-ankle (Y axis)  ...  acceleration, right-lower-arm (Z axis)  \\\n",
       "0                   -0.84053  ...                                0.187760   \n",
       "1                   -0.83865  ...                                0.023595   \n",
       "2                   -0.83865  ...                                0.275720   \n",
       "3                   -0.83865  ...                                0.367520   \n",
       "4                   -0.83865  ...                                0.407290   \n",
       "\n",
       "   gyro, right-lower-arm (X axis)  gyro, right-lower-arm (Y axis)  \\\n",
       "0                        -0.44902                         -1.0103   \n",
       "1                        -0.44902                         -1.0103   \n",
       "2                        -0.44902                         -1.0103   \n",
       "3                        -0.45686                         -1.0082   \n",
       "4                        -0.45686                         -1.0082   \n",
       "\n",
       "   gyro, right-lower-arm (Z axis)  magnetometer, right-lower-arm (X axis)  \\\n",
       "0                        0.034483                                -2.35000   \n",
       "1                        0.034483                                -2.16320   \n",
       "2                        0.034483                                -1.61750   \n",
       "3                        0.025862                                -1.07710   \n",
       "4                        0.025862                                -0.53684   \n",
       "\n",
       "   magnetometer, right-lower-arm (Y axis)  \\\n",
       "0                               -1.610200   \n",
       "1                               -0.882540   \n",
       "2                               -0.165620   \n",
       "3                                0.006945   \n",
       "4                                0.175900   \n",
       "\n",
       "   magnetometer, right-lower-arm (Z axis)  activity  timepoint  subject  \n",
       "0                               -0.030899         0       0.00        1  \n",
       "1                                0.326570         0       0.02        1  \n",
       "2                               -0.030693         0       0.04        1  \n",
       "3                               -0.382620         0       0.06        1  \n",
       "4                               -1.095500         0       0.08        1  \n",
       "\n",
       "[5 rows x 26 columns]"
      ]
     },
     "execution_count": 54,
     "metadata": {},
     "output_type": "execute_result"
    }
   ],
   "source": [
    "df.head()"
   ]
  },
  {
   "cell_type": "code",
   "execution_count": 67,
   "metadata": {},
   "outputs": [],
   "source": [
    "df['activity'] = activities_names[df['activity']]"
   ]
  },
  {
   "cell_type": "code",
   "execution_count": 144,
   "metadata": {
    "scrolled": false
   },
   "outputs": [],
   "source": [
    "def get_activity_intervals_df(df):\n",
    "    activity_intervals = []\n",
    "    for i in df.groupby('subject'):\n",
    "        prev = None\n",
    "        timepoints = []\n",
    "        activities = []\n",
    "\n",
    "        for ind, val in enumerate(i[1]['activity']):\n",
    "            if val != prev:\n",
    "                prev = val\n",
    "                timepoints.append(df.iloc[ind]['timepoint'])\n",
    "                activities.append(val)\n",
    "        timepoints.append(i[1].iloc[-1]['timepoint'])\n",
    "\n",
    "        activity_df = pd.DataFrame({\n",
    "            \"start\": pd.to_datetime(timepoints[:-1], unit='s'), \n",
    "            \"end\": pd.to_datetime(timepoints[1:], unit='s'), \n",
    "            'activity': activities,\n",
    "            'subject': i[0]\n",
    "        })\n",
    "        activity_df['length'] = (activity_df['end'] - activity_df['start'])/ np.timedelta64(1, 's') \n",
    "        activity_intervals.append(activity_df)\n",
    "    return pd.concat(activity_intervals)"
   ]
  },
  {
   "cell_type": "code",
   "execution_count": 145,
   "metadata": {},
   "outputs": [],
   "source": [
    "activity_length_df = get_activity_intervals_df(df)"
   ]
  },
  {
   "cell_type": "code",
   "execution_count": 146,
   "metadata": {},
   "outputs": [
    {
     "data": {
      "text/html": [
       "\n",
       "<div id=\"altair-viz-284d244db6f248e08a37fe1d2869ddb2\"></div>\n",
       "<script type=\"text/javascript\">\n",
       "  (function(spec, embedOpt){\n",
       "    let outputDiv = document.currentScript.previousElementSibling;\n",
       "    if (outputDiv.id !== \"altair-viz-284d244db6f248e08a37fe1d2869ddb2\") {\n",
       "      outputDiv = document.getElementById(\"altair-viz-284d244db6f248e08a37fe1d2869ddb2\");\n",
       "    }\n",
       "    const paths = {\n",
       "      \"vega\": \"https://cdn.jsdelivr.net/npm//vega@5?noext\",\n",
       "      \"vega-lib\": \"https://cdn.jsdelivr.net/npm//vega-lib?noext\",\n",
       "      \"vega-lite\": \"https://cdn.jsdelivr.net/npm//vega-lite@4.8.1?noext\",\n",
       "      \"vega-embed\": \"https://cdn.jsdelivr.net/npm//vega-embed@6?noext\",\n",
       "    };\n",
       "\n",
       "    function loadScript(lib) {\n",
       "      return new Promise(function(resolve, reject) {\n",
       "        var s = document.createElement('script');\n",
       "        s.src = paths[lib];\n",
       "        s.async = true;\n",
       "        s.onload = () => resolve(paths[lib]);\n",
       "        s.onerror = () => reject(`Error loading script: ${paths[lib]}`);\n",
       "        document.getElementsByTagName(\"head\")[0].appendChild(s);\n",
       "      });\n",
       "    }\n",
       "\n",
       "    function showError(err) {\n",
       "      outputDiv.innerHTML = `<div class=\"error\" style=\"color:red;\">${err}</div>`;\n",
       "      throw err;\n",
       "    }\n",
       "\n",
       "    function displayChart(vegaEmbed) {\n",
       "      vegaEmbed(outputDiv, spec, embedOpt)\n",
       "        .catch(err => showError(`Javascript Error: ${err.message}<br>This usually means there's a typo in your chart specification. See the javascript console for the full traceback.`));\n",
       "    }\n",
       "\n",
       "    if(typeof define === \"function\" && define.amd) {\n",
       "      requirejs.config({paths});\n",
       "      require([\"vega-embed\"], displayChart, err => showError(`Error loading script: ${err.message}`));\n",
       "    } else if (typeof vegaEmbed === \"function\") {\n",
       "      displayChart(vegaEmbed);\n",
       "    } else {\n",
       "      loadScript(\"vega\")\n",
       "        .then(() => loadScript(\"vega-lite\"))\n",
       "        .then(() => loadScript(\"vega-embed\"))\n",
       "        .catch(showError)\n",
       "        .then(() => displayChart(vegaEmbed));\n",
       "    }\n",
       "  })({\"config\": {\"view\": {\"continuousWidth\": 400, \"continuousHeight\": 300}}, \"data\": {\"name\": \"data-9f71efbe3691ac045f84c55191aa6003\"}, \"facet\": {\"column\": {\"type\": \"quantitative\", \"field\": \"subject\"}}, \"spec\": {\"mark\": \"rule\", \"encoding\": {\"x\": {\"type\": \"temporal\", \"axis\": {\"format\": \"%M:%S\", \"title\": \"time, mm:ss\"}, \"field\": \"start\"}, \"x2\": {\"field\": \"end\"}, \"y\": {\"type\": \"nominal\", \"field\": \"activity\"}}, \"height\": 300, \"width\": 400.0}, \"columns\": 2, \"$schema\": \"https://vega.github.io/schema/vega-lite/v4.8.1.json\", \"datasets\": {\"data-9f71efbe3691ac045f84c55191aa6003\": [{\"start\": \"1970-01-01T00:00:00\", \"end\": \"1970-01-01T00:02:13.120000\", \"activity\": \"N/A\", \"subject\": 1, \"length\": 133.12}, {\"start\": \"1970-01-01T00:02:13.120000\", \"end\": \"1970-01-01T00:03:14.560000\", \"activity\": \"Standing still\", \"subject\": 1, \"length\": 61.44}, {\"start\": \"1970-01-01T00:03:14.560000\", \"end\": \"1970-01-01T00:04:16\", \"activity\": \"N/A\", \"subject\": 1, \"length\": 61.44}, {\"start\": \"1970-01-01T00:04:16\", \"end\": \"1970-01-01T00:05:17.440000\", \"activity\": \"Sitting and relaxing\", \"subject\": 1, \"length\": 61.44}, {\"start\": \"1970-01-01T00:05:17.440000\", \"end\": \"1970-01-01T00:06:18.880000\", \"activity\": \"N/A\", \"subject\": 1, \"length\": 61.44}, {\"start\": \"1970-01-01T00:06:18.880000\", \"end\": \"1970-01-01T00:07:20.320000\", \"activity\": \"Lying down\", \"subject\": 1, \"length\": 61.44}, {\"start\": \"1970-01-01T00:07:20.320000\", \"end\": \"1970-01-01T00:09:23.200000\", \"activity\": \"N/A\", \"subject\": 1, \"length\": 122.88}, {\"start\": \"1970-01-01T00:09:23.200000\", \"end\": \"1970-01-01T00:10:24.640000\", \"activity\": \"Walking\", \"subject\": 1, \"length\": 61.44}, {\"start\": \"1970-01-01T00:10:24.640000\", \"end\": \"1970-01-01T00:12:27.520000\", \"activity\": \"N/A\", \"subject\": 1, \"length\": 122.88}, {\"start\": \"1970-01-01T00:12:27.520000\", \"end\": \"1970-01-01T00:13:28.960000\", \"activity\": \"Waist bends forward\", \"subject\": 1, \"length\": 61.44}, {\"start\": \"1970-01-01T00:13:28.960000\", \"end\": \"1970-01-01T00:17:34.720000\", \"activity\": \"N/A\", \"subject\": 1, \"length\": 245.76}, {\"start\": \"1970-01-01T00:17:34.720000\", \"end\": \"1970-01-01T00:18:36.160000\", \"activity\": \"Frontal elevation of arms\", \"subject\": 1, \"length\": 61.44}, {\"start\": \"1970-01-01T00:18:36.160000\", \"end\": \"1970-01-01T00:20:28.800000\", \"activity\": \"N/A\", \"subject\": 1, \"length\": 112.64}, {\"start\": \"1970-01-01T00:20:28.800000\", \"end\": \"1970-01-01T00:21:36.380000\", \"activity\": \"Knees bending (crouching)\", \"subject\": 1, \"length\": 67.58}, {\"start\": \"1970-01-01T00:21:36.380000\", \"end\": \"1970-01-01T00:25:21.660000\", \"activity\": \"N/A\", \"subject\": 1, \"length\": 225.28}, {\"start\": \"1970-01-01T00:25:21.660000\", \"end\": \"1970-01-01T00:26:23.100000\", \"activity\": \"Cycling\", \"subject\": 1, \"length\": 61.44}, {\"start\": \"1970-01-01T00:26:23.100000\", \"end\": \"1970-01-01T00:29:21.280000\", \"activity\": \"N/A\", \"subject\": 1, \"length\": 178.18}, {\"start\": \"1970-01-01T00:29:21.280000\", \"end\": \"1970-01-01T00:30:22.720000\", \"activity\": \"Jogging\", \"subject\": 1, \"length\": 61.44}, {\"start\": \"1970-01-01T00:30:22.720000\", \"end\": \"1970-01-01T00:32:56.320000\", \"activity\": \"N/A\", \"subject\": 1, \"length\": 153.6}, {\"start\": \"1970-01-01T00:32:56.320000\", \"end\": \"1970-01-01T00:33:57.760000\", \"activity\": \"Running\", \"subject\": 1, \"length\": 61.44}, {\"start\": \"1970-01-01T00:33:57.760000\", \"end\": \"1970-01-01T00:37:48.160000\", \"activity\": \"N/A\", \"subject\": 1, \"length\": 230.4}, {\"start\": \"1970-01-01T00:37:48.160000\", \"end\": \"1970-01-01T00:38:09.660000\", \"activity\": \"Jump front & back\", \"subject\": 1, \"length\": 21.5}, {\"start\": \"1970-01-01T00:38:09.660000\", \"end\": \"1970-01-01T00:52:23.680000\", \"activity\": \"N/A\", \"subject\": 1, \"length\": 854.02}, {\"start\": \"1970-01-01T00:52:23.680000\", \"end\": \"1970-01-01T00:53:25.120000\", \"activity\": \"Climbing stairs\", \"subject\": 1, \"length\": 61.44}, {\"start\": \"1970-01-01T00:53:25.120000\", \"end\": \"1970-01-01T00:53:45.580000\", \"activity\": \"N/A\", \"subject\": 1, \"length\": 20.46}, {\"start\": \"1970-01-01T00:00:00\", \"end\": \"1970-01-01T00:04:51.840000\", \"activity\": \"N/A\", \"subject\": 2, \"length\": 291.84}, {\"start\": \"1970-01-01T00:04:51.840000\", \"end\": \"1970-01-01T00:05:53.280000\", \"activity\": \"Climbing stairs\", \"subject\": 2, \"length\": 61.44}, {\"start\": \"1970-01-01T00:05:53.280000\", \"end\": \"1970-01-01T00:14:35.520000\", \"activity\": \"N/A\", \"subject\": 2, \"length\": 522.24}, {\"start\": \"1970-01-01T00:14:35.520000\", \"end\": \"1970-01-01T00:15:36.960000\", \"activity\": \"Standing still\", \"subject\": 2, \"length\": 61.44}, {\"start\": \"1970-01-01T00:15:36.960000\", \"end\": \"1970-01-01T00:16:38.400000\", \"activity\": \"N/A\", \"subject\": 2, \"length\": 61.44}, {\"start\": \"1970-01-01T00:16:38.400000\", \"end\": \"1970-01-01T00:17:39.840000\", \"activity\": \"Sitting and relaxing\", \"subject\": 2, \"length\": 61.44}, {\"start\": \"1970-01-01T00:17:39.840000\", \"end\": \"1970-01-01T00:18:41.280000\", \"activity\": \"N/A\", \"subject\": 2, \"length\": 61.44}, {\"start\": \"1970-01-01T00:18:41.280000\", \"end\": \"1970-01-01T00:19:42.720000\", \"activity\": \"Lying down\", \"subject\": 2, \"length\": 61.44}, {\"start\": \"1970-01-01T00:19:42.720000\", \"end\": \"1970-01-01T00:20:49.280000\", \"activity\": \"N/A\", \"subject\": 2, \"length\": 66.56}, {\"start\": \"1970-01-01T00:20:49.280000\", \"end\": \"1970-01-01T00:21:50.720000\", \"activity\": \"Walking\", \"subject\": 2, \"length\": 61.44}, {\"start\": \"1970-01-01T00:21:50.720000\", \"end\": \"1970-01-01T00:23:48.480000\", \"activity\": \"N/A\", \"subject\": 2, \"length\": 117.76}, {\"start\": \"1970-01-01T00:23:48.480000\", \"end\": \"1970-01-01T00:24:51.960000\", \"activity\": \"Waist bends forward\", \"subject\": 2, \"length\": 63.48}, {\"start\": \"1970-01-01T00:24:51.960000\", \"end\": \"1970-01-01T00:26:11.840000\", \"activity\": \"N/A\", \"subject\": 2, \"length\": 79.88}, {\"start\": \"1970-01-01T00:26:11.840000\", \"end\": \"1970-01-01T00:27:18.400000\", \"activity\": \"Frontal elevation of arms\", \"subject\": 2, \"length\": 66.56}, {\"start\": \"1970-01-01T00:27:18.400000\", \"end\": \"1970-01-01T00:27:59.360000\", \"activity\": \"N/A\", \"subject\": 2, \"length\": 40.96}, {\"start\": \"1970-01-01T00:27:59.360000\", \"end\": \"1970-01-01T00:29:07.960000\", \"activity\": \"Knees bending (crouching)\", \"subject\": 2, \"length\": 68.6}, {\"start\": \"1970-01-01T00:29:07.960000\", \"end\": \"1970-01-01T00:30:43.200000\", \"activity\": \"N/A\", \"subject\": 2, \"length\": 95.24}, {\"start\": \"1970-01-01T00:30:43.200000\", \"end\": \"1970-01-01T00:31:44.640000\", \"activity\": \"Jogging\", \"subject\": 2, \"length\": 61.44}, {\"start\": \"1970-01-01T00:31:44.640000\", \"end\": \"1970-01-01T00:34:33.600000\", \"activity\": \"N/A\", \"subject\": 2, \"length\": 168.96}, {\"start\": \"1970-01-01T00:34:33.600000\", \"end\": \"1970-01-01T00:35:35.040000\", \"activity\": \"Running\", \"subject\": 2, \"length\": 61.44}, {\"start\": \"1970-01-01T00:35:35.040000\", \"end\": \"1970-01-01T00:37:37.920000\", \"activity\": \"N/A\", \"subject\": 2, \"length\": 122.88}, {\"start\": \"1970-01-01T00:37:37.920000\", \"end\": \"1970-01-01T00:37:58.400000\", \"activity\": \"Jump front & back\", \"subject\": 2, \"length\": 20.48}, {\"start\": \"1970-01-01T00:37:58.400000\", \"end\": \"1970-01-01T00:41:12.960000\", \"activity\": \"N/A\", \"subject\": 2, \"length\": 194.56}, {\"start\": \"1970-01-01T00:41:12.960000\", \"end\": \"1970-01-01T00:42:14.400000\", \"activity\": \"Cycling\", \"subject\": 2, \"length\": 61.44}, {\"start\": \"1970-01-01T00:42:14.400000\", \"end\": \"1970-01-01T00:43:31.200000\", \"activity\": \"N/A\", \"subject\": 2, \"length\": 76.8}, {\"start\": \"1970-01-01T00:00:00\", \"end\": \"1970-01-01T00:01:32.160000\", \"activity\": \"N/A\", \"subject\": 3, \"length\": 92.16}, {\"start\": \"1970-01-01T00:01:32.160000\", \"end\": \"1970-01-01T00:02:33.600000\", \"activity\": \"Standing still\", \"subject\": 3, \"length\": 61.44}, {\"start\": \"1970-01-01T00:02:33.600000\", \"end\": \"1970-01-01T00:03:24.800000\", \"activity\": \"N/A\", \"subject\": 3, \"length\": 51.2}, {\"start\": \"1970-01-01T00:03:24.800000\", \"end\": \"1970-01-01T00:04:26.240000\", \"activity\": \"Sitting and relaxing\", \"subject\": 3, \"length\": 61.44}, {\"start\": \"1970-01-01T00:04:26.240000\", \"end\": \"1970-01-01T00:05:27.680000\", \"activity\": \"N/A\", \"subject\": 3, \"length\": 61.44}, {\"start\": \"1970-01-01T00:05:27.680000\", \"end\": \"1970-01-01T00:06:29.120000\", \"activity\": \"Lying down\", \"subject\": 3, \"length\": 61.44}, {\"start\": \"1970-01-01T00:06:29.120000\", \"end\": \"1970-01-01T00:08:11.520000\", \"activity\": \"N/A\", \"subject\": 3, \"length\": 102.4}, {\"start\": \"1970-01-01T00:08:11.520000\", \"end\": \"1970-01-01T00:09:12.960000\", \"activity\": \"Walking\", \"subject\": 3, \"length\": 61.44}, {\"start\": \"1970-01-01T00:09:12.960000\", \"end\": \"1970-01-01T00:11:48.600000\", \"activity\": \"N/A\", \"subject\": 3, \"length\": 155.64}, {\"start\": \"1970-01-01T00:11:48.600000\", \"end\": \"1970-01-01T00:12:53.120000\", \"activity\": \"Waist bends forward\", \"subject\": 3, \"length\": 64.52}, {\"start\": \"1970-01-01T00:12:53.120000\", \"end\": \"1970-01-01T00:13:49.440000\", \"activity\": \"N/A\", \"subject\": 3, \"length\": 56.32}, {\"start\": \"1970-01-01T00:13:49.440000\", \"end\": \"1970-01-01T00:14:57.020000\", \"activity\": \"Frontal elevation of arms\", \"subject\": 3, \"length\": 67.58}, {\"start\": \"1970-01-01T00:14:57.020000\", \"end\": \"1970-01-01T00:15:25.680000\", \"activity\": \"N/A\", \"subject\": 3, \"length\": 28.66}, {\"start\": \"1970-01-01T00:15:25.680000\", \"end\": \"1970-01-01T00:16:29.180000\", \"activity\": \"Knees bending (crouching)\", \"subject\": 3, \"length\": 63.5}, {\"start\": \"1970-01-01T00:16:29.180000\", \"end\": \"1970-01-01T00:18:25.920000\", \"activity\": \"N/A\", \"subject\": 3, \"length\": 116.74}, {\"start\": \"1970-01-01T00:18:25.920000\", \"end\": \"1970-01-01T00:19:27.360000\", \"activity\": \"Cycling\", \"subject\": 3, \"length\": 61.44}, {\"start\": \"1970-01-01T00:19:27.360000\", \"end\": \"1970-01-01T00:21:20\", \"activity\": \"N/A\", \"subject\": 3, \"length\": 112.64}, {\"start\": \"1970-01-01T00:21:20\", \"end\": \"1970-01-01T00:22:21.440000\", \"activity\": \"Jogging\", \"subject\": 3, \"length\": 61.44}, {\"start\": \"1970-01-01T00:22:21.440000\", \"end\": \"1970-01-01T00:24:14.080000\", \"activity\": \"N/A\", \"subject\": 3, \"length\": 112.64}, {\"start\": \"1970-01-01T00:24:14.080000\", \"end\": \"1970-01-01T00:25:15.520000\", \"activity\": \"Running\", \"subject\": 3, \"length\": 61.44}, {\"start\": \"1970-01-01T00:25:15.520000\", \"end\": \"1970-01-01T00:28:40.320000\", \"activity\": \"N/A\", \"subject\": 3, \"length\": 204.8}, {\"start\": \"1970-01-01T00:28:40.320000\", \"end\": \"1970-01-01T00:29:00.800000\", \"activity\": \"Jump front & back\", \"subject\": 3, \"length\": 20.48}, {\"start\": \"1970-01-01T00:29:00.800000\", \"end\": \"1970-01-01T00:39:10.080000\", \"activity\": \"N/A\", \"subject\": 3, \"length\": 609.28}, {\"start\": \"1970-01-01T00:39:10.080000\", \"end\": \"1970-01-01T00:40:11.520000\", \"activity\": \"Climbing stairs\", \"subject\": 3, \"length\": 61.44}, {\"start\": \"1970-01-01T00:40:11.520000\", \"end\": \"1970-01-01T00:40:42.220000\", \"activity\": \"N/A\", \"subject\": 3, \"length\": 30.7}, {\"start\": \"1970-01-01T00:00:00\", \"end\": \"1970-01-01T00:00:46.080000\", \"activity\": \"N/A\", \"subject\": 4, \"length\": 46.08}, {\"start\": \"1970-01-01T00:00:46.080000\", \"end\": \"1970-01-01T00:01:47.520000\", \"activity\": \"Climbing stairs\", \"subject\": 4, \"length\": 61.44}, {\"start\": \"1970-01-01T00:01:47.520000\", \"end\": \"1970-01-01T00:13:23.840000\", \"activity\": \"N/A\", \"subject\": 4, \"length\": 696.32}, {\"start\": \"1970-01-01T00:13:23.840000\", \"end\": \"1970-01-01T00:14:25.280000\", \"activity\": \"Standing still\", \"subject\": 4, \"length\": 61.44}, {\"start\": \"1970-01-01T00:14:25.280000\", \"end\": \"1970-01-01T00:15:11.360000\", \"activity\": \"N/A\", \"subject\": 4, \"length\": 46.08}, {\"start\": \"1970-01-01T00:15:11.360000\", \"end\": \"1970-01-01T00:16:12.800000\", \"activity\": \"Sitting and relaxing\", \"subject\": 4, \"length\": 61.44}, {\"start\": \"1970-01-01T00:16:12.800000\", \"end\": \"1970-01-01T00:16:53.760000\", \"activity\": \"N/A\", \"subject\": 4, \"length\": 40.96}, {\"start\": \"1970-01-01T00:16:53.760000\", \"end\": \"1970-01-01T00:17:55.200000\", \"activity\": \"Lying down\", \"subject\": 4, \"length\": 61.44}, {\"start\": \"1970-01-01T00:17:55.200000\", \"end\": \"1970-01-01T00:19:06.880000\", \"activity\": \"N/A\", \"subject\": 4, \"length\": 71.68}, {\"start\": \"1970-01-01T00:19:06.880000\", \"end\": \"1970-01-01T00:20:08.320000\", \"activity\": \"Walking\", \"subject\": 4, \"length\": 61.44}, {\"start\": \"1970-01-01T00:20:08.320000\", \"end\": \"1970-01-01T00:22:49.080000\", \"activity\": \"N/A\", \"subject\": 4, \"length\": 160.76}, {\"start\": \"1970-01-01T00:22:49.080000\", \"end\": \"1970-01-01T00:23:55.640000\", \"activity\": \"Waist bends forward\", \"subject\": 4, \"length\": 66.56}, {\"start\": \"1970-01-01T00:23:55.640000\", \"end\": \"1970-01-01T00:24:36.600000\", \"activity\": \"N/A\", \"subject\": 4, \"length\": 40.96}, {\"start\": \"1970-01-01T00:24:36.600000\", \"end\": \"1970-01-01T00:25:42.140000\", \"activity\": \"Frontal elevation of arms\", \"subject\": 4, \"length\": 65.54}, {\"start\": \"1970-01-01T00:25:42.140000\", \"end\": \"1970-01-01T00:28:01.400000\", \"activity\": \"N/A\", \"subject\": 4, \"length\": 139.26}, {\"start\": \"1970-01-01T00:28:01.400000\", \"end\": \"1970-01-01T00:29:03.860000\", \"activity\": \"Knees bending (crouching)\", \"subject\": 4, \"length\": 62.46}, {\"start\": \"1970-01-01T00:29:03.860000\", \"end\": \"1970-01-01T00:31:34.400000\", \"activity\": \"N/A\", \"subject\": 4, \"length\": 150.54}, {\"start\": \"1970-01-01T00:31:34.400000\", \"end\": \"1970-01-01T00:32:35.840000\", \"activity\": \"Cycling\", \"subject\": 4, \"length\": 61.44}, {\"start\": \"1970-01-01T00:32:35.840000\", \"end\": \"1970-01-01T00:33:32.160000\", \"activity\": \"N/A\", \"subject\": 4, \"length\": 56.32}, {\"start\": \"1970-01-01T00:33:32.160000\", \"end\": \"1970-01-01T00:34:33.600000\", \"activity\": \"Jogging\", \"subject\": 4, \"length\": 61.44}, {\"start\": \"1970-01-01T00:34:33.600000\", \"end\": \"1970-01-01T00:36:00.640000\", \"activity\": \"N/A\", \"subject\": 4, \"length\": 87.04}, {\"start\": \"1970-01-01T00:36:00.640000\", \"end\": \"1970-01-01T00:37:02.080000\", \"activity\": \"Running\", \"subject\": 4, \"length\": 61.44}, {\"start\": \"1970-01-01T00:37:02.080000\", \"end\": \"1970-01-01T00:37:53.280000\", \"activity\": \"N/A\", \"subject\": 4, \"length\": 51.2}, {\"start\": \"1970-01-01T00:37:53.280000\", \"end\": \"1970-01-01T00:38:13.760000\", \"activity\": \"Jump front & back\", \"subject\": 4, \"length\": 20.48}, {\"start\": \"1970-01-01T00:38:13.760000\", \"end\": \"1970-01-01T00:38:54.700000\", \"activity\": \"N/A\", \"subject\": 4, \"length\": 40.94}, {\"start\": \"1970-01-01T00:00:00\", \"end\": \"1970-01-01T00:01:01.440000\", \"activity\": \"N/A\", \"subject\": 5, \"length\": 61.44}, {\"start\": \"1970-01-01T00:01:01.440000\", \"end\": \"1970-01-01T00:02:02.880000\", \"activity\": \"Standing still\", \"subject\": 5, \"length\": 61.44}, {\"start\": \"1970-01-01T00:02:02.880000\", \"end\": \"1970-01-01T00:02:33.600000\", \"activity\": \"N/A\", \"subject\": 5, \"length\": 30.72}, {\"start\": \"1970-01-01T00:02:33.600000\", \"end\": \"1970-01-01T00:03:35.040000\", \"activity\": \"Sitting and relaxing\", \"subject\": 5, \"length\": 61.44}, {\"start\": \"1970-01-01T00:03:35.040000\", \"end\": \"1970-01-01T00:04:05.760000\", \"activity\": \"N/A\", \"subject\": 5, \"length\": 30.72}, {\"start\": \"1970-01-01T00:04:05.760000\", \"end\": \"1970-01-01T00:05:07.200000\", \"activity\": \"Lying down\", \"subject\": 5, \"length\": 61.44}, {\"start\": \"1970-01-01T00:05:07.200000\", \"end\": \"1970-01-01T00:05:37.920000\", \"activity\": \"N/A\", \"subject\": 5, \"length\": 30.72}, {\"start\": \"1970-01-01T00:05:37.920000\", \"end\": \"1970-01-01T00:06:39.360000\", \"activity\": \"Walking\", \"subject\": 5, \"length\": 61.44}, {\"start\": \"1970-01-01T00:06:39.360000\", \"end\": \"1970-01-01T00:08:11.520000\", \"activity\": \"N/A\", \"subject\": 5, \"length\": 92.16}, {\"start\": \"1970-01-01T00:08:11.520000\", \"end\": \"1970-01-01T00:09:06.820000\", \"activity\": \"Waist bends forward\", \"subject\": 5, \"length\": 55.3}, {\"start\": \"1970-01-01T00:09:06.820000\", \"end\": \"1970-01-01T00:09:43.680000\", \"activity\": \"N/A\", \"subject\": 5, \"length\": 36.86}, {\"start\": \"1970-01-01T00:09:43.680000\", \"end\": \"1970-01-01T00:10:41.040000\", \"activity\": \"Frontal elevation of arms\", \"subject\": 5, \"length\": 57.36}, {\"start\": \"1970-01-01T00:10:41.040000\", \"end\": \"1970-01-01T00:11:15.840000\", \"activity\": \"N/A\", \"subject\": 5, \"length\": 34.8}, {\"start\": \"1970-01-01T00:11:15.840000\", \"end\": \"1970-01-01T00:12:10.120000\", \"activity\": \"Knees bending (crouching)\", \"subject\": 5, \"length\": 54.28}, {\"start\": \"1970-01-01T00:12:10.120000\", \"end\": \"1970-01-01T00:13:49.440000\", \"activity\": \"N/A\", \"subject\": 5, \"length\": 99.32}, {\"start\": \"1970-01-01T00:13:49.440000\", \"end\": \"1970-01-01T00:14:50.880000\", \"activity\": \"Cycling\", \"subject\": 5, \"length\": 61.44}, {\"start\": \"1970-01-01T00:14:50.880000\", \"end\": \"1970-01-01T00:16:23.040000\", \"activity\": \"N/A\", \"subject\": 5, \"length\": 92.16}, {\"start\": \"1970-01-01T00:16:23.040000\", \"end\": \"1970-01-01T00:17:24.480000\", \"activity\": \"Jogging\", \"subject\": 5, \"length\": 61.44}, {\"start\": \"1970-01-01T00:17:24.480000\", \"end\": \"1970-01-01T00:19:27.360000\", \"activity\": \"N/A\", \"subject\": 5, \"length\": 122.88}, {\"start\": \"1970-01-01T00:19:27.360000\", \"end\": \"1970-01-01T00:20:28.800000\", \"activity\": \"Running\", \"subject\": 5, \"length\": 61.44}, {\"start\": \"1970-01-01T00:20:28.800000\", \"end\": \"1970-01-01T00:24:03.840000\", \"activity\": \"N/A\", \"subject\": 5, \"length\": 215.04}, {\"start\": \"1970-01-01T00:24:03.840000\", \"end\": \"1970-01-01T00:24:24.320000\", \"activity\": \"Jump front & back\", \"subject\": 5, \"length\": 20.48}, {\"start\": \"1970-01-01T00:24:24.320000\", \"end\": \"1970-01-01T00:37:22.560000\", \"activity\": \"N/A\", \"subject\": 5, \"length\": 778.24}, {\"start\": \"1970-01-01T00:37:22.560000\", \"end\": \"1970-01-01T00:38:24\", \"activity\": \"Climbing stairs\", \"subject\": 5, \"length\": 61.44}, {\"start\": \"1970-01-01T00:38:24\", \"end\": \"1970-01-01T00:39:56.140000\", \"activity\": \"N/A\", \"subject\": 5, \"length\": 92.14}, {\"start\": \"1970-01-01T00:00:00\", \"end\": \"1970-01-01T00:01:01.440000\", \"activity\": \"N/A\", \"subject\": 6, \"length\": 61.44}, {\"start\": \"1970-01-01T00:01:01.440000\", \"end\": \"1970-01-01T00:02:02.880000\", \"activity\": \"Standing still\", \"subject\": 6, \"length\": 61.44}, {\"start\": \"1970-01-01T00:02:02.880000\", \"end\": \"1970-01-01T00:02:33.600000\", \"activity\": \"N/A\", \"subject\": 6, \"length\": 30.72}, {\"start\": \"1970-01-01T00:02:33.600000\", \"end\": \"1970-01-01T00:03:35.040000\", \"activity\": \"Sitting and relaxing\", \"subject\": 6, \"length\": 61.44}, {\"start\": \"1970-01-01T00:03:35.040000\", \"end\": \"1970-01-01T00:04:05.760000\", \"activity\": \"N/A\", \"subject\": 6, \"length\": 30.72}, {\"start\": \"1970-01-01T00:04:05.760000\", \"end\": \"1970-01-01T00:05:07.200000\", \"activity\": \"Lying down\", \"subject\": 6, \"length\": 61.44}, {\"start\": \"1970-01-01T00:05:07.200000\", \"end\": \"1970-01-01T00:05:37.920000\", \"activity\": \"N/A\", \"subject\": 6, \"length\": 30.72}, {\"start\": \"1970-01-01T00:05:37.920000\", \"end\": \"1970-01-01T00:06:39.360000\", \"activity\": \"Walking\", \"subject\": 6, \"length\": 61.44}, {\"start\": \"1970-01-01T00:06:39.360000\", \"end\": \"1970-01-01T00:08:13.560000\", \"activity\": \"N/A\", \"subject\": 6, \"length\": 94.2}, {\"start\": \"1970-01-01T00:08:13.560000\", \"end\": \"1970-01-01T00:08:57.600000\", \"activity\": \"Waist bends forward\", \"subject\": 6, \"length\": 44.04}, {\"start\": \"1970-01-01T00:08:57.600000\", \"end\": \"1970-01-01T00:09:43.680000\", \"activity\": \"N/A\", \"subject\": 6, \"length\": 46.08}, {\"start\": \"1970-01-01T00:09:43.680000\", \"end\": \"1970-01-01T00:10:25.660000\", \"activity\": \"Frontal elevation of arms\", \"subject\": 6, \"length\": 41.98}, {\"start\": \"1970-01-01T00:10:25.660000\", \"end\": \"1970-01-01T00:11:15.840000\", \"activity\": \"N/A\", \"subject\": 6, \"length\": 50.18}, {\"start\": \"1970-01-01T00:11:15.840000\", \"end\": \"1970-01-01T00:12:01.920000\", \"activity\": \"Knees bending (crouching)\", \"subject\": 6, \"length\": 46.08}, {\"start\": \"1970-01-01T00:12:01.920000\", \"end\": \"1970-01-01T00:13:54.560000\", \"activity\": \"N/A\", \"subject\": 6, \"length\": 112.64}, {\"start\": \"1970-01-01T00:13:54.560000\", \"end\": \"1970-01-01T00:14:56\", \"activity\": \"Cycling\", \"subject\": 6, \"length\": 61.44}, {\"start\": \"1970-01-01T00:14:56\", \"end\": \"1970-01-01T00:16:53.760000\", \"activity\": \"N/A\", \"subject\": 6, \"length\": 117.76}, {\"start\": \"1970-01-01T00:16:53.760000\", \"end\": \"1970-01-01T00:17:55.200000\", \"activity\": \"Jogging\", \"subject\": 6, \"length\": 61.44}, {\"start\": \"1970-01-01T00:17:55.200000\", \"end\": \"1970-01-01T00:19:27.360000\", \"activity\": \"N/A\", \"subject\": 6, \"length\": 92.16}, {\"start\": \"1970-01-01T00:19:27.360000\", \"end\": \"1970-01-01T00:20:28.800000\", \"activity\": \"Running\", \"subject\": 6, \"length\": 61.44}, {\"start\": \"1970-01-01T00:20:28.800000\", \"end\": \"1970-01-01T00:21:58.920000\", \"activity\": \"N/A\", \"subject\": 6, \"length\": 90.12}, {\"start\": \"1970-01-01T00:21:58.920000\", \"end\": \"1970-01-01T00:22:19.400000\", \"activity\": \"Jump front & back\", \"subject\": 6, \"length\": 20.48}, {\"start\": \"1970-01-01T00:22:19.400000\", \"end\": \"1970-01-01T00:29:41.760000\", \"activity\": \"N/A\", \"subject\": 6, \"length\": 442.36}, {\"start\": \"1970-01-01T00:29:41.760000\", \"end\": \"1970-01-01T00:30:43.200000\", \"activity\": \"Climbing stairs\", \"subject\": 6, \"length\": 61.44}, {\"start\": \"1970-01-01T00:30:43.200000\", \"end\": \"1970-01-01T00:32:46.060000\", \"activity\": \"N/A\", \"subject\": 6, \"length\": 122.86}, {\"start\": \"1970-01-01T00:00:00\", \"end\": \"1970-01-01T00:02:02.880000\", \"activity\": \"N/A\", \"subject\": 7, \"length\": 122.88}, {\"start\": \"1970-01-01T00:02:02.880000\", \"end\": \"1970-01-01T00:02:13.120000\", \"activity\": \"Climbing stairs\", \"subject\": 7, \"length\": 10.24}, {\"start\": \"1970-01-01T00:02:13.120000\", \"end\": \"1970-01-01T00:03:04.320000\", \"activity\": \"N/A\", \"subject\": 7, \"length\": 51.2}, {\"start\": \"1970-01-01T00:03:04.320000\", \"end\": \"1970-01-01T00:03:14.560000\", \"activity\": \"Climbing stairs\", \"subject\": 7, \"length\": 10.24}, {\"start\": \"1970-01-01T00:03:14.560000\", \"end\": \"1970-01-01T00:03:35.040000\", \"activity\": \"N/A\", \"subject\": 7, \"length\": 20.48}, {\"start\": \"1970-01-01T00:03:35.040000\", \"end\": \"1970-01-01T00:03:45.280000\", \"activity\": \"Climbing stairs\", \"subject\": 7, \"length\": 10.24}, {\"start\": \"1970-01-01T00:03:45.280000\", \"end\": \"1970-01-01T00:04:05.760000\", \"activity\": \"N/A\", \"subject\": 7, \"length\": 20.48}, {\"start\": \"1970-01-01T00:04:05.760000\", \"end\": \"1970-01-01T00:04:16\", \"activity\": \"Climbing stairs\", \"subject\": 7, \"length\": 10.24}, {\"start\": \"1970-01-01T00:04:16\", \"end\": \"1970-01-01T00:04:36.480000\", \"activity\": \"N/A\", \"subject\": 7, \"length\": 20.48}, {\"start\": \"1970-01-01T00:04:36.480000\", \"end\": \"1970-01-01T00:04:46.720000\", \"activity\": \"Climbing stairs\", \"subject\": 7, \"length\": 10.24}, {\"start\": \"1970-01-01T00:04:46.720000\", \"end\": \"1970-01-01T00:05:35.880000\", \"activity\": \"N/A\", \"subject\": 7, \"length\": 49.16}, {\"start\": \"1970-01-01T00:05:35.880000\", \"end\": \"1970-01-01T00:05:46.120000\", \"activity\": \"Climbing stairs\", \"subject\": 7, \"length\": 10.24}, {\"start\": \"1970-01-01T00:05:46.120000\", \"end\": \"1970-01-01T00:11:46.560000\", \"activity\": \"N/A\", \"subject\": 7, \"length\": 360.44}, {\"start\": \"1970-01-01T00:11:46.560000\", \"end\": \"1970-01-01T00:12:48\", \"activity\": \"Standing still\", \"subject\": 7, \"length\": 61.44}, {\"start\": \"1970-01-01T00:12:48\", \"end\": \"1970-01-01T00:13:18.720000\", \"activity\": \"N/A\", \"subject\": 7, \"length\": 30.72}, {\"start\": \"1970-01-01T00:13:18.720000\", \"end\": \"1970-01-01T00:14:20.160000\", \"activity\": \"Sitting and relaxing\", \"subject\": 7, \"length\": 61.44}, {\"start\": \"1970-01-01T00:14:20.160000\", \"end\": \"1970-01-01T00:14:50.880000\", \"activity\": \"N/A\", \"subject\": 7, \"length\": 30.72}, {\"start\": \"1970-01-01T00:14:50.880000\", \"end\": \"1970-01-01T00:15:52.320000\", \"activity\": \"Lying down\", \"subject\": 7, \"length\": 61.44}, {\"start\": \"1970-01-01T00:15:52.320000\", \"end\": \"1970-01-01T00:16:53.760000\", \"activity\": \"N/A\", \"subject\": 7, \"length\": 61.44}, {\"start\": \"1970-01-01T00:16:53.760000\", \"end\": \"1970-01-01T00:17:55.200000\", \"activity\": \"Walking\", \"subject\": 7, \"length\": 61.44}, {\"start\": \"1970-01-01T00:17:55.200000\", \"end\": \"1970-01-01T00:19:32.480000\", \"activity\": \"N/A\", \"subject\": 7, \"length\": 97.28}, {\"start\": \"1970-01-01T00:19:32.480000\", \"end\": \"1970-01-01T00:20:33.920000\", \"activity\": \"Waist bends forward\", \"subject\": 7, \"length\": 61.44}, {\"start\": \"1970-01-01T00:20:33.920000\", \"end\": \"1970-01-01T00:21:00.540000\", \"activity\": \"N/A\", \"subject\": 7, \"length\": 26.62}, {\"start\": \"1970-01-01T00:21:00.540000\", \"end\": \"1970-01-01T00:21:55.840000\", \"activity\": \"Frontal elevation of arms\", \"subject\": 7, \"length\": 55.3}, {\"start\": \"1970-01-01T00:21:55.840000\", \"end\": \"1970-01-01T00:22:31.680000\", \"activity\": \"N/A\", \"subject\": 7, \"length\": 35.84}, {\"start\": \"1970-01-01T00:22:31.680000\", \"end\": \"1970-01-01T00:23:28\", \"activity\": \"Knees bending (crouching)\", \"subject\": 7, \"length\": 56.32}, {\"start\": \"1970-01-01T00:23:28\", \"end\": \"1970-01-01T00:24:34.560000\", \"activity\": \"N/A\", \"subject\": 7, \"length\": 66.56}, {\"start\": \"1970-01-01T00:24:34.560000\", \"end\": \"1970-01-01T00:25:36\", \"activity\": \"Cycling\", \"subject\": 7, \"length\": 61.44}, {\"start\": \"1970-01-01T00:25:36\", \"end\": \"1970-01-01T00:27:08.160000\", \"activity\": \"N/A\", \"subject\": 7, \"length\": 92.16}, {\"start\": \"1970-01-01T00:27:08.160000\", \"end\": \"1970-01-01T00:28:09.600000\", \"activity\": \"Jogging\", \"subject\": 7, \"length\": 61.44}, {\"start\": \"1970-01-01T00:28:09.600000\", \"end\": \"1970-01-01T00:30:12.480000\", \"activity\": \"N/A\", \"subject\": 7, \"length\": 122.88}, {\"start\": \"1970-01-01T00:30:12.480000\", \"end\": \"1970-01-01T00:31:13.920000\", \"activity\": \"Running\", \"subject\": 7, \"length\": 61.44}, {\"start\": \"1970-01-01T00:31:13.920000\", \"end\": \"1970-01-01T00:33:57.760000\", \"activity\": \"N/A\", \"subject\": 7, \"length\": 163.84}, {\"start\": \"1970-01-01T00:33:57.760000\", \"end\": \"1970-01-01T00:34:18.240000\", \"activity\": \"Jump front & back\", \"subject\": 7, \"length\": 20.48}, {\"start\": \"1970-01-01T00:34:18.240000\", \"end\": \"1970-01-01T00:34:48.940000\", \"activity\": \"N/A\", \"subject\": 7, \"length\": 30.7}, {\"start\": \"1970-01-01T00:00:00\", \"end\": \"1970-01-01T00:03:04.320000\", \"activity\": \"N/A\", \"subject\": 8, \"length\": 184.32}, {\"start\": \"1970-01-01T00:03:04.320000\", \"end\": \"1970-01-01T00:04:05.760000\", \"activity\": \"Standing still\", \"subject\": 8, \"length\": 61.44}, {\"start\": \"1970-01-01T00:04:05.760000\", \"end\": \"1970-01-01T00:06:08.640000\", \"activity\": \"N/A\", \"subject\": 8, \"length\": 122.88}, {\"start\": \"1970-01-01T00:06:08.640000\", \"end\": \"1970-01-01T00:07:10.080000\", \"activity\": \"Lying down\", \"subject\": 8, \"length\": 61.44}, {\"start\": \"1970-01-01T00:07:10.080000\", \"end\": \"1970-01-01T00:07:40.800000\", \"activity\": \"N/A\", \"subject\": 8, \"length\": 30.72}, {\"start\": \"1970-01-01T00:07:40.800000\", \"end\": \"1970-01-01T00:08:42.240000\", \"activity\": \"Sitting and relaxing\", \"subject\": 8, \"length\": 61.44}, {\"start\": \"1970-01-01T00:08:42.240000\", \"end\": \"1970-01-01T00:12:48\", \"activity\": \"N/A\", \"subject\": 8, \"length\": 245.76}, {\"start\": \"1970-01-01T00:12:48\", \"end\": \"1970-01-01T00:13:49.440000\", \"activity\": \"Walking\", \"subject\": 8, \"length\": 61.44}, {\"start\": \"1970-01-01T00:13:49.440000\", \"end\": \"1970-01-01T00:15:52.320000\", \"activity\": \"N/A\", \"subject\": 8, \"length\": 122.88}, {\"start\": \"1970-01-01T00:15:52.320000\", \"end\": \"1970-01-01T00:16:23.040000\", \"activity\": \"Climbing stairs\", \"subject\": 8, \"length\": 30.72}, {\"start\": \"1970-01-01T00:16:23.040000\", \"end\": \"1970-01-01T00:17:24.480000\", \"activity\": \"N/A\", \"subject\": 8, \"length\": 61.44}, {\"start\": \"1970-01-01T00:17:24.480000\", \"end\": \"1970-01-01T00:17:55.200000\", \"activity\": \"Climbing stairs\", \"subject\": 8, \"length\": 30.72}, {\"start\": \"1970-01-01T00:17:55.200000\", \"end\": \"1970-01-01T00:19:27.360000\", \"activity\": \"N/A\", \"subject\": 8, \"length\": 92.16}, {\"start\": \"1970-01-01T00:19:27.360000\", \"end\": \"1970-01-01T00:20:10.380000\", \"activity\": \"Waist bends forward\", \"subject\": 8, \"length\": 43.02}, {\"start\": \"1970-01-01T00:20:10.380000\", \"end\": \"1970-01-01T00:21:03.620000\", \"activity\": \"N/A\", \"subject\": 8, \"length\": 53.24}, {\"start\": \"1970-01-01T00:21:03.620000\", \"end\": \"1970-01-01T00:22:04.040000\", \"activity\": \"Frontal elevation of arms\", \"subject\": 8, \"length\": 60.42}, {\"start\": \"1970-01-01T00:22:04.040000\", \"end\": \"1970-01-01T00:23:02.400000\", \"activity\": \"N/A\", \"subject\": 8, \"length\": 58.36}, {\"start\": \"1970-01-01T00:23:02.400000\", \"end\": \"1970-01-01T00:23:53.600000\", \"activity\": \"Knees bending (crouching)\", \"subject\": 8, \"length\": 51.2}, {\"start\": \"1970-01-01T00:23:53.600000\", \"end\": \"1970-01-01T00:31:19.040000\", \"activity\": \"N/A\", \"subject\": 8, \"length\": 445.44}, {\"start\": \"1970-01-01T00:31:19.040000\", \"end\": \"1970-01-01T00:32:20.480000\", \"activity\": \"Cycling\", \"subject\": 8, \"length\": 61.44}, {\"start\": \"1970-01-01T00:32:20.480000\", \"end\": \"1970-01-01T00:34:18.240000\", \"activity\": \"N/A\", \"subject\": 8, \"length\": 117.76}, {\"start\": \"1970-01-01T00:34:18.240000\", \"end\": \"1970-01-01T00:35:19.680000\", \"activity\": \"Jogging\", \"subject\": 8, \"length\": 61.44}, {\"start\": \"1970-01-01T00:35:19.680000\", \"end\": \"1970-01-01T00:37:53.280000\", \"activity\": \"N/A\", \"subject\": 8, \"length\": 153.6}, {\"start\": \"1970-01-01T00:37:53.280000\", \"end\": \"1970-01-01T00:38:54.720000\", \"activity\": \"Running\", \"subject\": 8, \"length\": 61.44}, {\"start\": \"1970-01-01T00:38:54.720000\", \"end\": \"1970-01-01T00:41:27.300000\", \"activity\": \"N/A\", \"subject\": 8, \"length\": 152.58}, {\"start\": \"1970-01-01T00:41:27.300000\", \"end\": \"1970-01-01T00:41:47.780000\", \"activity\": \"Jump front & back\", \"subject\": 8, \"length\": 20.48}, {\"start\": \"1970-01-01T00:41:47.780000\", \"end\": \"1970-01-01T00:43:00.460000\", \"activity\": \"N/A\", \"subject\": 8, \"length\": 72.68}, {\"start\": \"1970-01-01T00:00:00\", \"end\": \"1970-01-01T00:04:05.760000\", \"activity\": \"N/A\", \"subject\": 9, \"length\": 245.76}, {\"start\": \"1970-01-01T00:04:05.760000\", \"end\": \"1970-01-01T00:05:07.200000\", \"activity\": \"Standing still\", \"subject\": 9, \"length\": 61.44}, {\"start\": \"1970-01-01T00:05:07.200000\", \"end\": \"1970-01-01T00:05:37.920000\", \"activity\": \"N/A\", \"subject\": 9, \"length\": 30.72}, {\"start\": \"1970-01-01T00:05:37.920000\", \"end\": \"1970-01-01T00:06:39.360000\", \"activity\": \"Sitting and relaxing\", \"subject\": 9, \"length\": 61.44}, {\"start\": \"1970-01-01T00:06:39.360000\", \"end\": \"1970-01-01T00:07:10.080000\", \"activity\": \"N/A\", \"subject\": 9, \"length\": 30.72}, {\"start\": \"1970-01-01T00:07:10.080000\", \"end\": \"1970-01-01T00:08:11.520000\", \"activity\": \"Lying down\", \"subject\": 9, \"length\": 61.44}, {\"start\": \"1970-01-01T00:08:11.520000\", \"end\": \"1970-01-01T00:09:12.960000\", \"activity\": \"N/A\", \"subject\": 9, \"length\": 61.44}, {\"start\": \"1970-01-01T00:09:12.960000\", \"end\": \"1970-01-01T00:10:14.400000\", \"activity\": \"Walking\", \"subject\": 9, \"length\": 61.44}, {\"start\": \"1970-01-01T00:10:14.400000\", \"end\": \"1970-01-01T00:11:46.560000\", \"activity\": \"N/A\", \"subject\": 9, \"length\": 92.16}, {\"start\": \"1970-01-01T00:11:46.560000\", \"end\": \"1970-01-01T00:12:43.900000\", \"activity\": \"Waist bends forward\", \"subject\": 9, \"length\": 57.34}, {\"start\": \"1970-01-01T00:12:43.900000\", \"end\": \"1970-01-01T00:13:18.720000\", \"activity\": \"N/A\", \"subject\": 9, \"length\": 34.82}, {\"start\": \"1970-01-01T00:13:18.720000\", \"end\": \"1970-01-01T00:14:16.060000\", \"activity\": \"Frontal elevation of arms\", \"subject\": 9, \"length\": 57.34}, {\"start\": \"1970-01-01T00:14:16.060000\", \"end\": \"1970-01-01T00:16:53.760000\", \"activity\": \"N/A\", \"subject\": 9, \"length\": 157.7}, {\"start\": \"1970-01-01T00:16:53.760000\", \"end\": \"1970-01-01T00:17:53.140000\", \"activity\": \"Knees bending (crouching)\", \"subject\": 9, \"length\": 59.38}, {\"start\": \"1970-01-01T00:17:53.140000\", \"end\": \"1970-01-01T00:20:18.560000\", \"activity\": \"N/A\", \"subject\": 9, \"length\": 145.42}, {\"start\": \"1970-01-01T00:20:18.560000\", \"end\": \"1970-01-01T00:21:20\", \"activity\": \"Cycling\", \"subject\": 9, \"length\": 61.44}, {\"start\": \"1970-01-01T00:21:20\", \"end\": \"1970-01-01T00:23:02.400000\", \"activity\": \"N/A\", \"subject\": 9, \"length\": 102.4}, {\"start\": \"1970-01-01T00:23:02.400000\", \"end\": \"1970-01-01T00:24:03.840000\", \"activity\": \"Jogging\", \"subject\": 9, \"length\": 61.44}, {\"start\": \"1970-01-01T00:24:03.840000\", \"end\": \"1970-01-01T00:28:09.600000\", \"activity\": \"N/A\", \"subject\": 9, \"length\": 245.76}, {\"start\": \"1970-01-01T00:28:09.600000\", \"end\": \"1970-01-01T00:29:11.040000\", \"activity\": \"Running\", \"subject\": 9, \"length\": 61.44}, {\"start\": \"1970-01-01T00:29:11.040000\", \"end\": \"1970-01-01T00:32:30.720000\", \"activity\": \"N/A\", \"subject\": 9, \"length\": 199.68}, {\"start\": \"1970-01-01T00:32:30.720000\", \"end\": \"1970-01-01T00:32:52.220000\", \"activity\": \"Jump front & back\", \"subject\": 9, \"length\": 21.5}, {\"start\": \"1970-01-01T00:32:52.220000\", \"end\": \"1970-01-01T00:43:00.480000\", \"activity\": \"N/A\", \"subject\": 9, \"length\": 608.26}, {\"start\": \"1970-01-01T00:43:00.480000\", \"end\": \"1970-01-01T00:44:01.920000\", \"activity\": \"Climbing stairs\", \"subject\": 9, \"length\": 61.44}, {\"start\": \"1970-01-01T00:44:01.920000\", \"end\": \"1970-01-01T00:45:03.340000\", \"activity\": \"N/A\", \"subject\": 9, \"length\": 61.42}, {\"start\": \"1970-01-01T00:00:00\", \"end\": \"1970-01-01T00:01:32.160000\", \"activity\": \"N/A\", \"subject\": 10, \"length\": 92.16}, {\"start\": \"1970-01-01T00:01:32.160000\", \"end\": \"1970-01-01T00:02:33.600000\", \"activity\": \"Climbing stairs\", \"subject\": 10, \"length\": 61.44}, {\"start\": \"1970-01-01T00:02:33.600000\", \"end\": \"1970-01-01T00:10:14.400000\", \"activity\": \"N/A\", \"subject\": 10, \"length\": 460.8}, {\"start\": \"1970-01-01T00:10:14.400000\", \"end\": \"1970-01-01T00:11:15.840000\", \"activity\": \"Standing still\", \"subject\": 10, \"length\": 61.44}, {\"start\": \"1970-01-01T00:11:15.840000\", \"end\": \"1970-01-01T00:11:46.560000\", \"activity\": \"N/A\", \"subject\": 10, \"length\": 30.72}, {\"start\": \"1970-01-01T00:11:46.560000\", \"end\": \"1970-01-01T00:12:48\", \"activity\": \"Sitting and relaxing\", \"subject\": 10, \"length\": 61.44}, {\"start\": \"1970-01-01T00:12:48\", \"end\": \"1970-01-01T00:13:18.720000\", \"activity\": \"N/A\", \"subject\": 10, \"length\": 30.72}, {\"start\": \"1970-01-01T00:13:18.720000\", \"end\": \"1970-01-01T00:14:20.160000\", \"activity\": \"Lying down\", \"subject\": 10, \"length\": 61.44}, {\"start\": \"1970-01-01T00:14:20.160000\", \"end\": \"1970-01-01T00:14:50.880000\", \"activity\": \"N/A\", \"subject\": 10, \"length\": 30.72}, {\"start\": \"1970-01-01T00:14:50.880000\", \"end\": \"1970-01-01T00:15:52.320000\", \"activity\": \"Walking\", \"subject\": 10, \"length\": 61.44}, {\"start\": \"1970-01-01T00:15:52.320000\", \"end\": \"1970-01-01T00:16:23.040000\", \"activity\": \"N/A\", \"subject\": 10, \"length\": 30.72}, {\"start\": \"1970-01-01T00:16:23.040000\", \"end\": \"1970-01-01T00:17:12.200000\", \"activity\": \"Waist bends forward\", \"subject\": 10, \"length\": 49.16}, {\"start\": \"1970-01-01T00:17:12.200000\", \"end\": \"1970-01-01T00:17:54.180000\", \"activity\": \"N/A\", \"subject\": 10, \"length\": 41.98}, {\"start\": \"1970-01-01T00:17:54.180000\", \"end\": \"1970-01-01T00:18:49.480000\", \"activity\": \"Frontal elevation of arms\", \"subject\": 10, \"length\": 55.3}, {\"start\": \"1970-01-01T00:18:49.480000\", \"end\": \"1970-01-01T00:19:28.400000\", \"activity\": \"N/A\", \"subject\": 10, \"length\": 38.92}, {\"start\": \"1970-01-01T00:19:28.400000\", \"end\": \"1970-01-01T00:20:25.740000\", \"activity\": \"Knees bending (crouching)\", \"subject\": 10, \"length\": 57.34}, {\"start\": \"1970-01-01T00:20:25.740000\", \"end\": \"1970-01-01T00:23:07.520000\", \"activity\": \"N/A\", \"subject\": 10, \"length\": 161.78}, {\"start\": \"1970-01-01T00:23:07.520000\", \"end\": \"1970-01-01T00:24:08.960000\", \"activity\": \"Cycling\", \"subject\": 10, \"length\": 61.44}, {\"start\": \"1970-01-01T00:24:08.960000\", \"end\": \"1970-01-01T00:25:05.280000\", \"activity\": \"N/A\", \"subject\": 10, \"length\": 56.32}, {\"start\": \"1970-01-01T00:25:05.280000\", \"end\": \"1970-01-01T00:26:06.720000\", \"activity\": \"Jogging\", \"subject\": 10, \"length\": 61.44}, {\"start\": \"1970-01-01T00:26:06.720000\", \"end\": \"1970-01-01T00:27:08.160000\", \"activity\": \"N/A\", \"subject\": 10, \"length\": 61.44}, {\"start\": \"1970-01-01T00:27:08.160000\", \"end\": \"1970-01-01T00:28:09.600000\", \"activity\": \"Running\", \"subject\": 10, \"length\": 61.44}, {\"start\": \"1970-01-01T00:28:09.600000\", \"end\": \"1970-01-01T00:31:43.620000\", \"activity\": \"N/A\", \"subject\": 10, \"length\": 214.02}, {\"start\": \"1970-01-01T00:31:43.620000\", \"end\": \"1970-01-01T00:32:04.100000\", \"activity\": \"Jump front & back\", \"subject\": 10, \"length\": 20.48}, {\"start\": \"1970-01-01T00:32:04.100000\", \"end\": \"1970-01-01T00:32:46.060000\", \"activity\": \"N/A\", \"subject\": 10, \"length\": 41.96}]}}, {\"mode\": \"vega-lite\"});\n",
       "</script>"
      ],
      "text/plain": [
       "alt.FacetChart(...)"
      ]
     },
     "execution_count": 146,
     "metadata": {},
     "output_type": "execute_result"
    }
   ],
   "source": [
    "alt.Chart(activity_length_df).mark_rule().encode(\n",
    "    y = alt.Y('activity:N'),\n",
    "    x = alt.X('start:T', axis=alt.Axis(title='time, mm:ss', format =('%M:%S'))),\n",
    "    x2 = alt.X2('end:T')\n",
    ").properties(\n",
    "    width = 800/2,\n",
    "    height= 300\n",
    ").facet(\n",
    "    column='subject:Q', \n",
    "    columns=2\n",
    ")"
   ]
  },
  {
   "cell_type": "markdown",
   "metadata": {},
   "source": [
    "We can see, that even though we nearly 1 hour of recording, we have nearly 12 minutes of usefull signals"
   ]
  },
  {
   "cell_type": "code",
   "execution_count": 147,
   "metadata": {},
   "outputs": [
    {
     "data": {
      "text/html": [
       "\n",
       "<div id=\"altair-viz-0b88debe61264170847376d91f1513b2\"></div>\n",
       "<script type=\"text/javascript\">\n",
       "  (function(spec, embedOpt){\n",
       "    let outputDiv = document.currentScript.previousElementSibling;\n",
       "    if (outputDiv.id !== \"altair-viz-0b88debe61264170847376d91f1513b2\") {\n",
       "      outputDiv = document.getElementById(\"altair-viz-0b88debe61264170847376d91f1513b2\");\n",
       "    }\n",
       "    const paths = {\n",
       "      \"vega\": \"https://cdn.jsdelivr.net/npm//vega@5?noext\",\n",
       "      \"vega-lib\": \"https://cdn.jsdelivr.net/npm//vega-lib?noext\",\n",
       "      \"vega-lite\": \"https://cdn.jsdelivr.net/npm//vega-lite@4.8.1?noext\",\n",
       "      \"vega-embed\": \"https://cdn.jsdelivr.net/npm//vega-embed@6?noext\",\n",
       "    };\n",
       "\n",
       "    function loadScript(lib) {\n",
       "      return new Promise(function(resolve, reject) {\n",
       "        var s = document.createElement('script');\n",
       "        s.src = paths[lib];\n",
       "        s.async = true;\n",
       "        s.onload = () => resolve(paths[lib]);\n",
       "        s.onerror = () => reject(`Error loading script: ${paths[lib]}`);\n",
       "        document.getElementsByTagName(\"head\")[0].appendChild(s);\n",
       "      });\n",
       "    }\n",
       "\n",
       "    function showError(err) {\n",
       "      outputDiv.innerHTML = `<div class=\"error\" style=\"color:red;\">${err}</div>`;\n",
       "      throw err;\n",
       "    }\n",
       "\n",
       "    function displayChart(vegaEmbed) {\n",
       "      vegaEmbed(outputDiv, spec, embedOpt)\n",
       "        .catch(err => showError(`Javascript Error: ${err.message}<br>This usually means there's a typo in your chart specification. See the javascript console for the full traceback.`));\n",
       "    }\n",
       "\n",
       "    if(typeof define === \"function\" && define.amd) {\n",
       "      requirejs.config({paths});\n",
       "      require([\"vega-embed\"], displayChart, err => showError(`Error loading script: ${err.message}`));\n",
       "    } else if (typeof vegaEmbed === \"function\") {\n",
       "      displayChart(vegaEmbed);\n",
       "    } else {\n",
       "      loadScript(\"vega\")\n",
       "        .then(() => loadScript(\"vega-lite\"))\n",
       "        .then(() => loadScript(\"vega-embed\"))\n",
       "        .catch(showError)\n",
       "        .then(() => displayChart(vegaEmbed));\n",
       "    }\n",
       "  })({\"config\": {\"view\": {\"continuousWidth\": 400, \"continuousHeight\": 300}}, \"data\": {\"name\": \"data-49be57e2afd4701d877665b303a47fc5\"}, \"facet\": {\"column\": {\"type\": \"nominal\", \"field\": \"subject\"}}, \"spec\": {\"mark\": \"bar\", \"encoding\": {\"x\": {\"type\": \"quantitative\", \"field\": \"length\"}, \"y\": {\"type\": \"nominal\", \"field\": \"activity\", \"title\": \"length, s\"}}}, \"columns\": 5, \"$schema\": \"https://vega.github.io/schema/vega-lite/v4.8.1.json\", \"datasets\": {\"data-49be57e2afd4701d877665b303a47fc5\": [{\"start\": \"1970-01-01T00:02:13.120000\", \"end\": \"1970-01-01T00:03:14.560000\", \"activity\": \"Standing still\", \"subject\": 1, \"length\": 61.44}, {\"start\": \"1970-01-01T00:04:16\", \"end\": \"1970-01-01T00:05:17.440000\", \"activity\": \"Sitting and relaxing\", \"subject\": 1, \"length\": 61.44}, {\"start\": \"1970-01-01T00:06:18.880000\", \"end\": \"1970-01-01T00:07:20.320000\", \"activity\": \"Lying down\", \"subject\": 1, \"length\": 61.44}, {\"start\": \"1970-01-01T00:09:23.200000\", \"end\": \"1970-01-01T00:10:24.640000\", \"activity\": \"Walking\", \"subject\": 1, \"length\": 61.44}, {\"start\": \"1970-01-01T00:12:27.520000\", \"end\": \"1970-01-01T00:13:28.960000\", \"activity\": \"Waist bends forward\", \"subject\": 1, \"length\": 61.44}, {\"start\": \"1970-01-01T00:17:34.720000\", \"end\": \"1970-01-01T00:18:36.160000\", \"activity\": \"Frontal elevation of arms\", \"subject\": 1, \"length\": 61.44}, {\"start\": \"1970-01-01T00:20:28.800000\", \"end\": \"1970-01-01T00:21:36.380000\", \"activity\": \"Knees bending (crouching)\", \"subject\": 1, \"length\": 67.58}, {\"start\": \"1970-01-01T00:25:21.660000\", \"end\": \"1970-01-01T00:26:23.100000\", \"activity\": \"Cycling\", \"subject\": 1, \"length\": 61.44}, {\"start\": \"1970-01-01T00:29:21.280000\", \"end\": \"1970-01-01T00:30:22.720000\", \"activity\": \"Jogging\", \"subject\": 1, \"length\": 61.44}, {\"start\": \"1970-01-01T00:32:56.320000\", \"end\": \"1970-01-01T00:33:57.760000\", \"activity\": \"Running\", \"subject\": 1, \"length\": 61.44}, {\"start\": \"1970-01-01T00:37:48.160000\", \"end\": \"1970-01-01T00:38:09.660000\", \"activity\": \"Jump front & back\", \"subject\": 1, \"length\": 21.5}, {\"start\": \"1970-01-01T00:52:23.680000\", \"end\": \"1970-01-01T00:53:25.120000\", \"activity\": \"Climbing stairs\", \"subject\": 1, \"length\": 61.44}, {\"start\": \"1970-01-01T00:04:51.840000\", \"end\": \"1970-01-01T00:05:53.280000\", \"activity\": \"Climbing stairs\", \"subject\": 2, \"length\": 61.44}, {\"start\": \"1970-01-01T00:14:35.520000\", \"end\": \"1970-01-01T00:15:36.960000\", \"activity\": \"Standing still\", \"subject\": 2, \"length\": 61.44}, {\"start\": \"1970-01-01T00:16:38.400000\", \"end\": \"1970-01-01T00:17:39.840000\", \"activity\": \"Sitting and relaxing\", \"subject\": 2, \"length\": 61.44}, {\"start\": \"1970-01-01T00:18:41.280000\", \"end\": \"1970-01-01T00:19:42.720000\", \"activity\": \"Lying down\", \"subject\": 2, \"length\": 61.44}, {\"start\": \"1970-01-01T00:20:49.280000\", \"end\": \"1970-01-01T00:21:50.720000\", \"activity\": \"Walking\", \"subject\": 2, \"length\": 61.44}, {\"start\": \"1970-01-01T00:23:48.480000\", \"end\": \"1970-01-01T00:24:51.960000\", \"activity\": \"Waist bends forward\", \"subject\": 2, \"length\": 63.48}, {\"start\": \"1970-01-01T00:26:11.840000\", \"end\": \"1970-01-01T00:27:18.400000\", \"activity\": \"Frontal elevation of arms\", \"subject\": 2, \"length\": 66.56}, {\"start\": \"1970-01-01T00:27:59.360000\", \"end\": \"1970-01-01T00:29:07.960000\", \"activity\": \"Knees bending (crouching)\", \"subject\": 2, \"length\": 68.6}, {\"start\": \"1970-01-01T00:30:43.200000\", \"end\": \"1970-01-01T00:31:44.640000\", \"activity\": \"Jogging\", \"subject\": 2, \"length\": 61.44}, {\"start\": \"1970-01-01T00:34:33.600000\", \"end\": \"1970-01-01T00:35:35.040000\", \"activity\": \"Running\", \"subject\": 2, \"length\": 61.44}, {\"start\": \"1970-01-01T00:37:37.920000\", \"end\": \"1970-01-01T00:37:58.400000\", \"activity\": \"Jump front & back\", \"subject\": 2, \"length\": 20.48}, {\"start\": \"1970-01-01T00:41:12.960000\", \"end\": \"1970-01-01T00:42:14.400000\", \"activity\": \"Cycling\", \"subject\": 2, \"length\": 61.44}, {\"start\": \"1970-01-01T00:01:32.160000\", \"end\": \"1970-01-01T00:02:33.600000\", \"activity\": \"Standing still\", \"subject\": 3, \"length\": 61.44}, {\"start\": \"1970-01-01T00:03:24.800000\", \"end\": \"1970-01-01T00:04:26.240000\", \"activity\": \"Sitting and relaxing\", \"subject\": 3, \"length\": 61.44}, {\"start\": \"1970-01-01T00:05:27.680000\", \"end\": \"1970-01-01T00:06:29.120000\", \"activity\": \"Lying down\", \"subject\": 3, \"length\": 61.44}, {\"start\": \"1970-01-01T00:08:11.520000\", \"end\": \"1970-01-01T00:09:12.960000\", \"activity\": \"Walking\", \"subject\": 3, \"length\": 61.44}, {\"start\": \"1970-01-01T00:11:48.600000\", \"end\": \"1970-01-01T00:12:53.120000\", \"activity\": \"Waist bends forward\", \"subject\": 3, \"length\": 64.52}, {\"start\": \"1970-01-01T00:13:49.440000\", \"end\": \"1970-01-01T00:14:57.020000\", \"activity\": \"Frontal elevation of arms\", \"subject\": 3, \"length\": 67.58}, {\"start\": \"1970-01-01T00:15:25.680000\", \"end\": \"1970-01-01T00:16:29.180000\", \"activity\": \"Knees bending (crouching)\", \"subject\": 3, \"length\": 63.5}, {\"start\": \"1970-01-01T00:18:25.920000\", \"end\": \"1970-01-01T00:19:27.360000\", \"activity\": \"Cycling\", \"subject\": 3, \"length\": 61.44}, {\"start\": \"1970-01-01T00:21:20\", \"end\": \"1970-01-01T00:22:21.440000\", \"activity\": \"Jogging\", \"subject\": 3, \"length\": 61.44}, {\"start\": \"1970-01-01T00:24:14.080000\", \"end\": \"1970-01-01T00:25:15.520000\", \"activity\": \"Running\", \"subject\": 3, \"length\": 61.44}, {\"start\": \"1970-01-01T00:28:40.320000\", \"end\": \"1970-01-01T00:29:00.800000\", \"activity\": \"Jump front & back\", \"subject\": 3, \"length\": 20.48}, {\"start\": \"1970-01-01T00:39:10.080000\", \"end\": \"1970-01-01T00:40:11.520000\", \"activity\": \"Climbing stairs\", \"subject\": 3, \"length\": 61.44}, {\"start\": \"1970-01-01T00:00:46.080000\", \"end\": \"1970-01-01T00:01:47.520000\", \"activity\": \"Climbing stairs\", \"subject\": 4, \"length\": 61.44}, {\"start\": \"1970-01-01T00:13:23.840000\", \"end\": \"1970-01-01T00:14:25.280000\", \"activity\": \"Standing still\", \"subject\": 4, \"length\": 61.44}, {\"start\": \"1970-01-01T00:15:11.360000\", \"end\": \"1970-01-01T00:16:12.800000\", \"activity\": \"Sitting and relaxing\", \"subject\": 4, \"length\": 61.44}, {\"start\": \"1970-01-01T00:16:53.760000\", \"end\": \"1970-01-01T00:17:55.200000\", \"activity\": \"Lying down\", \"subject\": 4, \"length\": 61.44}, {\"start\": \"1970-01-01T00:19:06.880000\", \"end\": \"1970-01-01T00:20:08.320000\", \"activity\": \"Walking\", \"subject\": 4, \"length\": 61.44}, {\"start\": \"1970-01-01T00:22:49.080000\", \"end\": \"1970-01-01T00:23:55.640000\", \"activity\": \"Waist bends forward\", \"subject\": 4, \"length\": 66.56}, {\"start\": \"1970-01-01T00:24:36.600000\", \"end\": \"1970-01-01T00:25:42.140000\", \"activity\": \"Frontal elevation of arms\", \"subject\": 4, \"length\": 65.54}, {\"start\": \"1970-01-01T00:28:01.400000\", \"end\": \"1970-01-01T00:29:03.860000\", \"activity\": \"Knees bending (crouching)\", \"subject\": 4, \"length\": 62.46}, {\"start\": \"1970-01-01T00:31:34.400000\", \"end\": \"1970-01-01T00:32:35.840000\", \"activity\": \"Cycling\", \"subject\": 4, \"length\": 61.44}, {\"start\": \"1970-01-01T00:33:32.160000\", \"end\": \"1970-01-01T00:34:33.600000\", \"activity\": \"Jogging\", \"subject\": 4, \"length\": 61.44}, {\"start\": \"1970-01-01T00:36:00.640000\", \"end\": \"1970-01-01T00:37:02.080000\", \"activity\": \"Running\", \"subject\": 4, \"length\": 61.44}, {\"start\": \"1970-01-01T00:37:53.280000\", \"end\": \"1970-01-01T00:38:13.760000\", \"activity\": \"Jump front & back\", \"subject\": 4, \"length\": 20.48}, {\"start\": \"1970-01-01T00:01:01.440000\", \"end\": \"1970-01-01T00:02:02.880000\", \"activity\": \"Standing still\", \"subject\": 5, \"length\": 61.44}, {\"start\": \"1970-01-01T00:02:33.600000\", \"end\": \"1970-01-01T00:03:35.040000\", \"activity\": \"Sitting and relaxing\", \"subject\": 5, \"length\": 61.44}, {\"start\": \"1970-01-01T00:04:05.760000\", \"end\": \"1970-01-01T00:05:07.200000\", \"activity\": \"Lying down\", \"subject\": 5, \"length\": 61.44}, {\"start\": \"1970-01-01T00:05:37.920000\", \"end\": \"1970-01-01T00:06:39.360000\", \"activity\": \"Walking\", \"subject\": 5, \"length\": 61.44}, {\"start\": \"1970-01-01T00:08:11.520000\", \"end\": \"1970-01-01T00:09:06.820000\", \"activity\": \"Waist bends forward\", \"subject\": 5, \"length\": 55.3}, {\"start\": \"1970-01-01T00:09:43.680000\", \"end\": \"1970-01-01T00:10:41.040000\", \"activity\": \"Frontal elevation of arms\", \"subject\": 5, \"length\": 57.36}, {\"start\": \"1970-01-01T00:11:15.840000\", \"end\": \"1970-01-01T00:12:10.120000\", \"activity\": \"Knees bending (crouching)\", \"subject\": 5, \"length\": 54.28}, {\"start\": \"1970-01-01T00:13:49.440000\", \"end\": \"1970-01-01T00:14:50.880000\", \"activity\": \"Cycling\", \"subject\": 5, \"length\": 61.44}, {\"start\": \"1970-01-01T00:16:23.040000\", \"end\": \"1970-01-01T00:17:24.480000\", \"activity\": \"Jogging\", \"subject\": 5, \"length\": 61.44}, {\"start\": \"1970-01-01T00:19:27.360000\", \"end\": \"1970-01-01T00:20:28.800000\", \"activity\": \"Running\", \"subject\": 5, \"length\": 61.44}, {\"start\": \"1970-01-01T00:24:03.840000\", \"end\": \"1970-01-01T00:24:24.320000\", \"activity\": \"Jump front & back\", \"subject\": 5, \"length\": 20.48}, {\"start\": \"1970-01-01T00:37:22.560000\", \"end\": \"1970-01-01T00:38:24\", \"activity\": \"Climbing stairs\", \"subject\": 5, \"length\": 61.44}, {\"start\": \"1970-01-01T00:01:01.440000\", \"end\": \"1970-01-01T00:02:02.880000\", \"activity\": \"Standing still\", \"subject\": 6, \"length\": 61.44}, {\"start\": \"1970-01-01T00:02:33.600000\", \"end\": \"1970-01-01T00:03:35.040000\", \"activity\": \"Sitting and relaxing\", \"subject\": 6, \"length\": 61.44}, {\"start\": \"1970-01-01T00:04:05.760000\", \"end\": \"1970-01-01T00:05:07.200000\", \"activity\": \"Lying down\", \"subject\": 6, \"length\": 61.44}, {\"start\": \"1970-01-01T00:05:37.920000\", \"end\": \"1970-01-01T00:06:39.360000\", \"activity\": \"Walking\", \"subject\": 6, \"length\": 61.44}, {\"start\": \"1970-01-01T00:08:13.560000\", \"end\": \"1970-01-01T00:08:57.600000\", \"activity\": \"Waist bends forward\", \"subject\": 6, \"length\": 44.04}, {\"start\": \"1970-01-01T00:09:43.680000\", \"end\": \"1970-01-01T00:10:25.660000\", \"activity\": \"Frontal elevation of arms\", \"subject\": 6, \"length\": 41.98}, {\"start\": \"1970-01-01T00:11:15.840000\", \"end\": \"1970-01-01T00:12:01.920000\", \"activity\": \"Knees bending (crouching)\", \"subject\": 6, \"length\": 46.08}, {\"start\": \"1970-01-01T00:13:54.560000\", \"end\": \"1970-01-01T00:14:56\", \"activity\": \"Cycling\", \"subject\": 6, \"length\": 61.44}, {\"start\": \"1970-01-01T00:16:53.760000\", \"end\": \"1970-01-01T00:17:55.200000\", \"activity\": \"Jogging\", \"subject\": 6, \"length\": 61.44}, {\"start\": \"1970-01-01T00:19:27.360000\", \"end\": \"1970-01-01T00:20:28.800000\", \"activity\": \"Running\", \"subject\": 6, \"length\": 61.44}, {\"start\": \"1970-01-01T00:21:58.920000\", \"end\": \"1970-01-01T00:22:19.400000\", \"activity\": \"Jump front & back\", \"subject\": 6, \"length\": 20.48}, {\"start\": \"1970-01-01T00:29:41.760000\", \"end\": \"1970-01-01T00:30:43.200000\", \"activity\": \"Climbing stairs\", \"subject\": 6, \"length\": 61.44}, {\"start\": \"1970-01-01T00:02:02.880000\", \"end\": \"1970-01-01T00:02:13.120000\", \"activity\": \"Climbing stairs\", \"subject\": 7, \"length\": 10.24}, {\"start\": \"1970-01-01T00:03:04.320000\", \"end\": \"1970-01-01T00:03:14.560000\", \"activity\": \"Climbing stairs\", \"subject\": 7, \"length\": 10.24}, {\"start\": \"1970-01-01T00:03:35.040000\", \"end\": \"1970-01-01T00:03:45.280000\", \"activity\": \"Climbing stairs\", \"subject\": 7, \"length\": 10.24}, {\"start\": \"1970-01-01T00:04:05.760000\", \"end\": \"1970-01-01T00:04:16\", \"activity\": \"Climbing stairs\", \"subject\": 7, \"length\": 10.24}, {\"start\": \"1970-01-01T00:04:36.480000\", \"end\": \"1970-01-01T00:04:46.720000\", \"activity\": \"Climbing stairs\", \"subject\": 7, \"length\": 10.24}, {\"start\": \"1970-01-01T00:05:35.880000\", \"end\": \"1970-01-01T00:05:46.120000\", \"activity\": \"Climbing stairs\", \"subject\": 7, \"length\": 10.24}, {\"start\": \"1970-01-01T00:11:46.560000\", \"end\": \"1970-01-01T00:12:48\", \"activity\": \"Standing still\", \"subject\": 7, \"length\": 61.44}, {\"start\": \"1970-01-01T00:13:18.720000\", \"end\": \"1970-01-01T00:14:20.160000\", \"activity\": \"Sitting and relaxing\", \"subject\": 7, \"length\": 61.44}, {\"start\": \"1970-01-01T00:14:50.880000\", \"end\": \"1970-01-01T00:15:52.320000\", \"activity\": \"Lying down\", \"subject\": 7, \"length\": 61.44}, {\"start\": \"1970-01-01T00:16:53.760000\", \"end\": \"1970-01-01T00:17:55.200000\", \"activity\": \"Walking\", \"subject\": 7, \"length\": 61.44}, {\"start\": \"1970-01-01T00:19:32.480000\", \"end\": \"1970-01-01T00:20:33.920000\", \"activity\": \"Waist bends forward\", \"subject\": 7, \"length\": 61.44}, {\"start\": \"1970-01-01T00:21:00.540000\", \"end\": \"1970-01-01T00:21:55.840000\", \"activity\": \"Frontal elevation of arms\", \"subject\": 7, \"length\": 55.3}, {\"start\": \"1970-01-01T00:22:31.680000\", \"end\": \"1970-01-01T00:23:28\", \"activity\": \"Knees bending (crouching)\", \"subject\": 7, \"length\": 56.32}, {\"start\": \"1970-01-01T00:24:34.560000\", \"end\": \"1970-01-01T00:25:36\", \"activity\": \"Cycling\", \"subject\": 7, \"length\": 61.44}, {\"start\": \"1970-01-01T00:27:08.160000\", \"end\": \"1970-01-01T00:28:09.600000\", \"activity\": \"Jogging\", \"subject\": 7, \"length\": 61.44}, {\"start\": \"1970-01-01T00:30:12.480000\", \"end\": \"1970-01-01T00:31:13.920000\", \"activity\": \"Running\", \"subject\": 7, \"length\": 61.44}, {\"start\": \"1970-01-01T00:33:57.760000\", \"end\": \"1970-01-01T00:34:18.240000\", \"activity\": \"Jump front & back\", \"subject\": 7, \"length\": 20.48}, {\"start\": \"1970-01-01T00:03:04.320000\", \"end\": \"1970-01-01T00:04:05.760000\", \"activity\": \"Standing still\", \"subject\": 8, \"length\": 61.44}, {\"start\": \"1970-01-01T00:06:08.640000\", \"end\": \"1970-01-01T00:07:10.080000\", \"activity\": \"Lying down\", \"subject\": 8, \"length\": 61.44}, {\"start\": \"1970-01-01T00:07:40.800000\", \"end\": \"1970-01-01T00:08:42.240000\", \"activity\": \"Sitting and relaxing\", \"subject\": 8, \"length\": 61.44}, {\"start\": \"1970-01-01T00:12:48\", \"end\": \"1970-01-01T00:13:49.440000\", \"activity\": \"Walking\", \"subject\": 8, \"length\": 61.44}, {\"start\": \"1970-01-01T00:15:52.320000\", \"end\": \"1970-01-01T00:16:23.040000\", \"activity\": \"Climbing stairs\", \"subject\": 8, \"length\": 30.72}, {\"start\": \"1970-01-01T00:17:24.480000\", \"end\": \"1970-01-01T00:17:55.200000\", \"activity\": \"Climbing stairs\", \"subject\": 8, \"length\": 30.72}, {\"start\": \"1970-01-01T00:19:27.360000\", \"end\": \"1970-01-01T00:20:10.380000\", \"activity\": \"Waist bends forward\", \"subject\": 8, \"length\": 43.02}, {\"start\": \"1970-01-01T00:21:03.620000\", \"end\": \"1970-01-01T00:22:04.040000\", \"activity\": \"Frontal elevation of arms\", \"subject\": 8, \"length\": 60.42}, {\"start\": \"1970-01-01T00:23:02.400000\", \"end\": \"1970-01-01T00:23:53.600000\", \"activity\": \"Knees bending (crouching)\", \"subject\": 8, \"length\": 51.2}, {\"start\": \"1970-01-01T00:31:19.040000\", \"end\": \"1970-01-01T00:32:20.480000\", \"activity\": \"Cycling\", \"subject\": 8, \"length\": 61.44}, {\"start\": \"1970-01-01T00:34:18.240000\", \"end\": \"1970-01-01T00:35:19.680000\", \"activity\": \"Jogging\", \"subject\": 8, \"length\": 61.44}, {\"start\": \"1970-01-01T00:37:53.280000\", \"end\": \"1970-01-01T00:38:54.720000\", \"activity\": \"Running\", \"subject\": 8, \"length\": 61.44}, {\"start\": \"1970-01-01T00:41:27.300000\", \"end\": \"1970-01-01T00:41:47.780000\", \"activity\": \"Jump front & back\", \"subject\": 8, \"length\": 20.48}, {\"start\": \"1970-01-01T00:04:05.760000\", \"end\": \"1970-01-01T00:05:07.200000\", \"activity\": \"Standing still\", \"subject\": 9, \"length\": 61.44}, {\"start\": \"1970-01-01T00:05:37.920000\", \"end\": \"1970-01-01T00:06:39.360000\", \"activity\": \"Sitting and relaxing\", \"subject\": 9, \"length\": 61.44}, {\"start\": \"1970-01-01T00:07:10.080000\", \"end\": \"1970-01-01T00:08:11.520000\", \"activity\": \"Lying down\", \"subject\": 9, \"length\": 61.44}, {\"start\": \"1970-01-01T00:09:12.960000\", \"end\": \"1970-01-01T00:10:14.400000\", \"activity\": \"Walking\", \"subject\": 9, \"length\": 61.44}, {\"start\": \"1970-01-01T00:11:46.560000\", \"end\": \"1970-01-01T00:12:43.900000\", \"activity\": \"Waist bends forward\", \"subject\": 9, \"length\": 57.34}, {\"start\": \"1970-01-01T00:13:18.720000\", \"end\": \"1970-01-01T00:14:16.060000\", \"activity\": \"Frontal elevation of arms\", \"subject\": 9, \"length\": 57.34}, {\"start\": \"1970-01-01T00:16:53.760000\", \"end\": \"1970-01-01T00:17:53.140000\", \"activity\": \"Knees bending (crouching)\", \"subject\": 9, \"length\": 59.38}, {\"start\": \"1970-01-01T00:20:18.560000\", \"end\": \"1970-01-01T00:21:20\", \"activity\": \"Cycling\", \"subject\": 9, \"length\": 61.44}, {\"start\": \"1970-01-01T00:23:02.400000\", \"end\": \"1970-01-01T00:24:03.840000\", \"activity\": \"Jogging\", \"subject\": 9, \"length\": 61.44}, {\"start\": \"1970-01-01T00:28:09.600000\", \"end\": \"1970-01-01T00:29:11.040000\", \"activity\": \"Running\", \"subject\": 9, \"length\": 61.44}, {\"start\": \"1970-01-01T00:32:30.720000\", \"end\": \"1970-01-01T00:32:52.220000\", \"activity\": \"Jump front & back\", \"subject\": 9, \"length\": 21.5}, {\"start\": \"1970-01-01T00:43:00.480000\", \"end\": \"1970-01-01T00:44:01.920000\", \"activity\": \"Climbing stairs\", \"subject\": 9, \"length\": 61.44}, {\"start\": \"1970-01-01T00:01:32.160000\", \"end\": \"1970-01-01T00:02:33.600000\", \"activity\": \"Climbing stairs\", \"subject\": 10, \"length\": 61.44}, {\"start\": \"1970-01-01T00:10:14.400000\", \"end\": \"1970-01-01T00:11:15.840000\", \"activity\": \"Standing still\", \"subject\": 10, \"length\": 61.44}, {\"start\": \"1970-01-01T00:11:46.560000\", \"end\": \"1970-01-01T00:12:48\", \"activity\": \"Sitting and relaxing\", \"subject\": 10, \"length\": 61.44}, {\"start\": \"1970-01-01T00:13:18.720000\", \"end\": \"1970-01-01T00:14:20.160000\", \"activity\": \"Lying down\", \"subject\": 10, \"length\": 61.44}, {\"start\": \"1970-01-01T00:14:50.880000\", \"end\": \"1970-01-01T00:15:52.320000\", \"activity\": \"Walking\", \"subject\": 10, \"length\": 61.44}, {\"start\": \"1970-01-01T00:16:23.040000\", \"end\": \"1970-01-01T00:17:12.200000\", \"activity\": \"Waist bends forward\", \"subject\": 10, \"length\": 49.16}, {\"start\": \"1970-01-01T00:17:54.180000\", \"end\": \"1970-01-01T00:18:49.480000\", \"activity\": \"Frontal elevation of arms\", \"subject\": 10, \"length\": 55.3}, {\"start\": \"1970-01-01T00:19:28.400000\", \"end\": \"1970-01-01T00:20:25.740000\", \"activity\": \"Knees bending (crouching)\", \"subject\": 10, \"length\": 57.34}, {\"start\": \"1970-01-01T00:23:07.520000\", \"end\": \"1970-01-01T00:24:08.960000\", \"activity\": \"Cycling\", \"subject\": 10, \"length\": 61.44}, {\"start\": \"1970-01-01T00:25:05.280000\", \"end\": \"1970-01-01T00:26:06.720000\", \"activity\": \"Jogging\", \"subject\": 10, \"length\": 61.44}, {\"start\": \"1970-01-01T00:27:08.160000\", \"end\": \"1970-01-01T00:28:09.600000\", \"activity\": \"Running\", \"subject\": 10, \"length\": 61.44}, {\"start\": \"1970-01-01T00:31:43.620000\", \"end\": \"1970-01-01T00:32:04.100000\", \"activity\": \"Jump front & back\", \"subject\": 10, \"length\": 20.48}]}}, {\"mode\": \"vega-lite\"});\n",
       "</script>"
      ],
      "text/plain": [
       "alt.FacetChart(...)"
      ]
     },
     "execution_count": 147,
     "metadata": {},
     "output_type": "execute_result"
    }
   ],
   "source": [
    "alt.Chart(activity_length_df[activity_length_df['activity'] != activities_names[0]]).encode(\n",
    "    x = 'length:Q',\n",
    "    y = alt.Y('activity:N', title='length, s'),\n",
    ").mark_bar().facet(column='subject:N', columns=5)"
   ]
  },
  {
   "cell_type": "markdown",
   "metadata": {},
   "source": [
    "Jump front & back is much shorter, then previous ones (20s vs 1m), so I decided to drop it. Also, subject #7 has much shorter Climbing stairs activity (only 15 seconds), so we can drop it to use larger window size."
   ]
  },
  {
   "cell_type": "code",
   "execution_count": 195,
   "metadata": {
    "scrolled": false
   },
   "outputs": [],
   "source": [
    "def get_signal(subject, activity):\n",
    "    def get_interval():\n",
    "        tmp_df = activity_length_df[activity_length_df['subject'] == subject]\n",
    "        res = tmp_df[tmp_df['activity'] == activity]\n",
    "        return res['start'].values[0], res['end'].values[0]\n",
    "    \n",
    "    st, end = get_interval()\n",
    "    to_seconds = lambda x: x.astype('float')/10**9\n",
    "    get_index = lambda x: np.argmin(np.abs(df['timepoint'].values - x))\n",
    "    st, end = to_seconds(st), to_seconds(end)\n",
    "    \n",
    "    return df.iloc[get_index(st): get_index(end)]"
   ]
  },
  {
   "cell_type": "code",
   "execution_count": 203,
   "metadata": {},
   "outputs": [],
   "source": [
    "def plot_ecg(sig,lead=1):\n",
    "    return alt.Chart(sig).mark_line().encode(\n",
    "        x = alt.X('timepoint:Q', axis=alt.Axis(labels=True), title='time, s'),\n",
    "        y = alt.Y('ECG-'+str(lead)+':Q', title='Voltage, mV'),\n",
    "    )"
   ]
  },
  {
   "cell_type": "code",
   "execution_count": null,
   "metadata": {},
   "outputs": [],
   "source": [
    "reduce(and_, [plot_ecg(get_signal(1, activity)).properties(title=activity) for activity in activities_names[1:]])"
   ]
  },
  {
   "cell_type": "code",
   "execution_count": 163,
   "metadata": {},
   "outputs": [
    {
     "data": {
      "text/plain": [
       "1761.0"
      ]
     },
     "execution_count": 163,
     "metadata": {},
     "output_type": "execute_result"
    }
   ],
   "source": []
  },
  {
   "cell_type": "code",
   "execution_count": null,
   "metadata": {},
   "outputs": [],
   "source": []
  }
 ],
 "metadata": {
  "kernelspec": {
   "display_name": "Python 3",
   "language": "python",
   "name": "python3"
  },
  "language_info": {
   "codemirror_mode": {
    "name": "ipython",
    "version": 3
   },
   "file_extension": ".py",
   "mimetype": "text/x-python",
   "name": "python",
   "nbconvert_exporter": "python",
   "pygments_lexer": "ipython3",
   "version": "3.8.5"
  },
  "toc": {
   "base_numbering": 1,
   "nav_menu": {},
   "number_sections": true,
   "sideBar": true,
   "skip_h1_title": false,
   "title_cell": "Table of Contents",
   "title_sidebar": "Contents",
   "toc_cell": false,
   "toc_position": {},
   "toc_section_display": true,
   "toc_window_display": false
  }
 },
 "nbformat": 4,
 "nbformat_minor": 4
}
